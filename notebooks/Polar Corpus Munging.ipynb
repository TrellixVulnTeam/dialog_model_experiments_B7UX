{
 "cells": [
  {
   "cell_type": "code",
   "execution_count": 1,
   "metadata": {},
   "outputs": [],
   "source": [
    "import os\n",
    "import numpy as np\n",
    "import pandas as pd"
   ]
  },
  {
   "cell_type": "code",
   "execution_count": 4,
   "metadata": {},
   "outputs": [
    {
     "name": "stdout",
     "output_type": "stream",
     "text": [
      "3112578\n",
      "3112576\n"
     ]
    }
   ],
   "source": [
    "src, tgt = [], []\n",
    "\n",
    "with open('/data/ased/polar_nmt/polar_src_nocontext_1550179785.txt', 'r') as infile:\n",
    "    for line in infile:\n",
    "        src.append(line.strip())\n",
    "        \n",
    "with open('/data/ased/polar_nmt/polar_tgt_nocontext_1550179785.txt', 'r') as infile:\n",
    "    for line in infile:\n",
    "        tgt.append(line.strip())\n",
    "        \n",
    "print(len(src))\n",
    "print(len(tgt))"
   ]
  },
  {
   "cell_type": "code",
   "execution_count": 8,
   "metadata": {},
   "outputs": [
    {
     "name": "stdout",
     "output_type": "stream",
     "text": [
      "Oh damn , I'm really sorry to hear that . I understand your situation now\n",
      "\n",
      "It's okayy\n",
      "\n"
     ]
    }
   ],
   "source": [
    "print(src[3112577])\n",
    "print(tgt[-1])"
   ]
  },
  {
   "cell_type": "code",
   "execution_count": 10,
   "metadata": {},
   "outputs": [
    {
     "name": "stdout",
     "output_type": "stream",
     "text": [
      "2801318 311258\n"
     ]
    }
   ],
   "source": [
    "from sklearn.model_selection import KFold\n",
    "\n",
    "kfold = KFold(n_splits=10)\n",
    "train_idx, valid_idx = next(kfold.split(src[:len(tgt)], tgt))\n",
    "\n",
    "print(len(train_idx), len(valid_idx))"
   ]
  },
  {
   "cell_type": "code",
   "execution_count": 13,
   "metadata": {},
   "outputs": [],
   "source": [
    "train_idx = set(train_idx)\n",
    "valid_idx = set(valid_idx)\n",
    "\n",
    "train_file = open('polar_train.txt', encoding='utf8', mode='w')\n",
    "valid_file = open('polar_valid.txt', encoding='utf8', mode='w')\n",
    "\n",
    "for line_ix, (src_, tgt_) in enumerate(zip(src, tgt)):\n",
    "    if line_ix in train_idx:\n",
    "        train_file.write(src_.strip())\n",
    "        train_file.write('\\t')\n",
    "        train_file.write(tgt_.strip())\n",
    "        train_file.write('\\n')\n",
    "    elif line_ix in valid_idx:\n",
    "        valid_file.write(src_.strip())\n",
    "        valid_file.write('\\t')\n",
    "        valid_file.write(tgt_.strip())\n",
    "        valid_file.write('\\n')\n",
    "        \n",
    "train_file.close()\n",
    "valid_file.close()"
   ]
  },
  {
   "cell_type": "code",
   "execution_count": 12,
   "metadata": {},
   "outputs": [
    {
     "data": {
      "text/plain": [
       "'/home/kyle.shaffer/keras_transformer_experiment'"
      ]
     },
     "execution_count": 12,
     "metadata": {},
     "output_type": "execute_result"
    }
   ],
   "source": [
    "pwd"
   ]
  },
  {
   "cell_type": "code",
   "execution_count": 15,
   "metadata": {},
   "outputs": [
    {
     "name": "stdout",
     "output_type": "stream",
     "text": [
      "423373\n"
     ]
    },
    {
     "data": {
      "text/plain": [
       "[('I', 3763446),\n",
       " ('to', 3189683),\n",
       " ('you', 2849935),\n",
       " ('.', 2729416),\n",
       " (',', 2231125),\n",
       " ('and', 2140348),\n",
       " ('a', 1839914),\n",
       " ('?', 1678205),\n",
       " ('the', 1556114),\n",
       " ('i', 1465279),\n",
       " ('it', 1414765),\n",
       " ('that', 1370563),\n",
       " ('me', 1224388),\n",
       " ('is', 1058897),\n",
       " ('of', 981471),\n",
       " ('my', 974931),\n",
       " ('in', 881798),\n",
       " ('have', 844683),\n",
       " ('for', 839288),\n",
       " ('but', 808126)]"
      ]
     },
     "execution_count": 15,
     "metadata": {},
     "output_type": "execute_result"
    }
   ],
   "source": [
    "from collections import Counter\n",
    "\n",
    "polar_vocab = Counter()\n",
    "\n",
    "for s, t in zip(src, tgt):\n",
    "    polar_vocab.update(s.split())\n",
    "    polar_vocab.update(t.split())\n",
    "    \n",
    "print(len(polar_vocab))\n",
    "polar_vocab.most_common(20)"
   ]
  },
  {
   "cell_type": "code",
   "execution_count": 16,
   "metadata": {},
   "outputs": [],
   "source": [
    "with open('/data/users/kyle.shaffer/dialog_data/polar_vocab.txt', encoding='utf8', mode='w') as outfile:\n",
    "    for w, w_cnt in polar_vocab.most_common():\n",
    "        outfile.write(w)\n",
    "        outfile.write('\\t')\n",
    "        outfile.write(str(w_cnt))\n",
    "        outfile.write('\\n')"
   ]
  },
  {
   "cell_type": "code",
   "execution_count": 17,
   "metadata": {},
   "outputs": [
    {
     "name": "stdout",
     "output_type": "stream",
     "text": [
      "(423373, 2)\n"
     ]
    },
    {
     "data": {
      "text/html": [
       "<div>\n",
       "<style scoped>\n",
       "    .dataframe tbody tr th:only-of-type {\n",
       "        vertical-align: middle;\n",
       "    }\n",
       "\n",
       "    .dataframe tbody tr th {\n",
       "        vertical-align: top;\n",
       "    }\n",
       "\n",
       "    .dataframe thead th {\n",
       "        text-align: right;\n",
       "    }\n",
       "</style>\n",
       "<table border=\"1\" class=\"dataframe\">\n",
       "  <thead>\n",
       "    <tr style=\"text-align: right;\">\n",
       "      <th></th>\n",
       "      <th>word</th>\n",
       "      <th>word_count</th>\n",
       "    </tr>\n",
       "  </thead>\n",
       "  <tbody>\n",
       "    <tr>\n",
       "      <th>0</th>\n",
       "      <td>I</td>\n",
       "      <td>3763446</td>\n",
       "    </tr>\n",
       "    <tr>\n",
       "      <th>1</th>\n",
       "      <td>to</td>\n",
       "      <td>3189683</td>\n",
       "    </tr>\n",
       "    <tr>\n",
       "      <th>2</th>\n",
       "      <td>you</td>\n",
       "      <td>2849935</td>\n",
       "    </tr>\n",
       "    <tr>\n",
       "      <th>3</th>\n",
       "      <td>.</td>\n",
       "      <td>2729416</td>\n",
       "    </tr>\n",
       "    <tr>\n",
       "      <th>4</th>\n",
       "      <td>,</td>\n",
       "      <td>2231125</td>\n",
       "    </tr>\n",
       "    <tr>\n",
       "      <th>5</th>\n",
       "      <td>and</td>\n",
       "      <td>2140348</td>\n",
       "    </tr>\n",
       "    <tr>\n",
       "      <th>6</th>\n",
       "      <td>a</td>\n",
       "      <td>1839914</td>\n",
       "    </tr>\n",
       "    <tr>\n",
       "      <th>7</th>\n",
       "      <td>?</td>\n",
       "      <td>1678205</td>\n",
       "    </tr>\n",
       "    <tr>\n",
       "      <th>8</th>\n",
       "      <td>the</td>\n",
       "      <td>1556114</td>\n",
       "    </tr>\n",
       "    <tr>\n",
       "      <th>9</th>\n",
       "      <td>i</td>\n",
       "      <td>1465279</td>\n",
       "    </tr>\n",
       "  </tbody>\n",
       "</table>\n",
       "</div>"
      ],
      "text/plain": [
       "  word  word_count\n",
       "0    I     3763446\n",
       "1   to     3189683\n",
       "2  you     2849935\n",
       "3    .     2729416\n",
       "4    ,     2231125\n",
       "5  and     2140348\n",
       "6    a     1839914\n",
       "7    ?     1678205\n",
       "8  the     1556114\n",
       "9    i     1465279"
      ]
     },
     "execution_count": 17,
     "metadata": {},
     "output_type": "execute_result"
    }
   ],
   "source": [
    "vocab_df = pd.DataFrame(polar_vocab.most_common(), columns=['word', 'word_count'])\n",
    "print(vocab_df.shape)\n",
    "vocab_df.head(10)"
   ]
  },
  {
   "cell_type": "code",
   "execution_count": 22,
   "metadata": {},
   "outputs": [
    {
     "data": {
      "text/plain": [
       "(101449, 2)"
      ]
     },
     "execution_count": 22,
     "metadata": {},
     "output_type": "execute_result"
    }
   ],
   "source": [
    "vocab_df[vocab_df.word_count > 5].shape"
   ]
  },
  {
   "cell_type": "code",
   "execution_count": 57,
   "metadata": {},
   "outputs": [
    {
     "name": "stdout",
     "output_type": "stream",
     "text": [
      "(311238, 2)\n"
     ]
    },
    {
     "data": {
      "text/html": [
       "<div>\n",
       "<style scoped>\n",
       "    .dataframe tbody tr th:only-of-type {\n",
       "        vertical-align: middle;\n",
       "    }\n",
       "\n",
       "    .dataframe tbody tr th {\n",
       "        vertical-align: top;\n",
       "    }\n",
       "\n",
       "    .dataframe thead th {\n",
       "        text-align: right;\n",
       "    }\n",
       "</style>\n",
       "<table border=\"1\" class=\"dataframe\">\n",
       "  <thead>\n",
       "    <tr style=\"text-align: right;\">\n",
       "      <th></th>\n",
       "      <th>left</th>\n",
       "      <th>right</th>\n",
       "    </tr>\n",
       "  </thead>\n",
       "  <tbody>\n",
       "    <tr>\n",
       "      <th>0</th>\n",
       "      <td>And go where ?</td>\n",
       "      <td>Mums Sisters Shelter</td>\n",
       "    </tr>\n",
       "    <tr>\n",
       "      <th>1</th>\n",
       "      <td>Mums Sisters Shelter</td>\n",
       "      <td>Mom lives in a group home</td>\n",
       "    </tr>\n",
       "    <tr>\n",
       "      <th>2</th>\n",
       "      <td>Mom lives in a group home</td>\n",
       "      <td>She would make room shes family and you're abused</td>\n",
       "    </tr>\n",
       "    <tr>\n",
       "      <th>3</th>\n",
       "      <td>She would make room shes family and you're abused</td>\n",
       "      <td>Shelters here only take women who have been be...</td>\n",
       "    </tr>\n",
       "    <tr>\n",
       "      <th>4</th>\n",
       "      <td>Shelters here only take women who have been be...</td>\n",
       "      <td>A sofa A floor You are beaten</td>\n",
       "    </tr>\n",
       "    <tr>\n",
       "      <th>5</th>\n",
       "      <td>A sofa A floor You are beaten</td>\n",
       "      <td>Ugggh , do you even know what a studio apartme...</td>\n",
       "    </tr>\n",
       "    <tr>\n",
       "      <th>6</th>\n",
       "      <td>Ugggh , do you even know what a studio apartme...</td>\n",
       "      <td>Studio here means one bedroom bathroom living ...</td>\n",
       "    </tr>\n",
       "    <tr>\n",
       "      <th>7</th>\n",
       "      <td>Studio here means one bedroom bathroom living ...</td>\n",
       "      <td>One bedroom for them would be luxury</td>\n",
       "    </tr>\n",
       "    <tr>\n",
       "      <th>8</th>\n",
       "      <td>On may</td>\n",
       "      <td>there is still a lot of time you will prepare ...</td>\n",
       "    </tr>\n",
       "    <tr>\n",
       "      <th>9</th>\n",
       "      <td>there is still a lot of time you will prepare ...</td>\n",
       "      <td>I made lots mistkakes in that exercise yesterday</td>\n",
       "    </tr>\n",
       "    <tr>\n",
       "      <th>10</th>\n",
       "      <td>I made lots mistkakes in that exercise yesterday</td>\n",
       "      <td>you still have time</td>\n",
       "    </tr>\n",
       "    <tr>\n",
       "      <th>11</th>\n",
       "      <td>you still have time</td>\n",
       "      <td>Do you have teddies ?</td>\n",
       "    </tr>\n",
       "    <tr>\n",
       "      <th>12</th>\n",
       "      <td>Do you have teddies ?</td>\n",
       "      <td>nope</td>\n",
       "    </tr>\n",
       "    <tr>\n",
       "      <th>13</th>\n",
       "      <td>nope</td>\n",
       "      <td>I meant teddybear Do you have one ?</td>\n",
       "    </tr>\n",
       "    <tr>\n",
       "      <th>14</th>\n",
       "      <td>I meant teddybear Do you have one ?</td>\n",
       "      <td>no my mother threw them away</td>\n",
       "    </tr>\n",
       "    <tr>\n",
       "      <th>15</th>\n",
       "      <td>no my mother threw them away</td>\n",
       "      <td>And when you panicking what are you doing ?</td>\n",
       "    </tr>\n",
       "    <tr>\n",
       "      <th>16</th>\n",
       "      <td>And when you panicking what are you doing ?</td>\n",
       "      <td>just panick . i guess haha . i punch the wall ...</td>\n",
       "    </tr>\n",
       "    <tr>\n",
       "      <th>17</th>\n",
       "      <td>just panick . i guess haha . i punch the wall ...</td>\n",
       "      <td>Im learning german too at university</td>\n",
       "    </tr>\n",
       "    <tr>\n",
       "      <th>18</th>\n",
       "      <td>Online madam Are you double - timing me rn ?</td>\n",
       "      <td>You tell me the time .</td>\n",
       "    </tr>\n",
       "    <tr>\n",
       "      <th>19</th>\n",
       "      <td>You tell me the time .</td>\n",
       "      <td>Actually there is no such particular time So y...</td>\n",
       "    </tr>\n",
       "  </tbody>\n",
       "</table>\n",
       "</div>"
      ],
      "text/plain": [
       "                                                 left  \\\n",
       "0                                      And go where ?   \n",
       "1                                Mums Sisters Shelter   \n",
       "2                           Mom lives in a group home   \n",
       "3   She would make room shes family and you're abused   \n",
       "4   Shelters here only take women who have been be...   \n",
       "5                       A sofa A floor You are beaten   \n",
       "6   Ugggh , do you even know what a studio apartme...   \n",
       "7   Studio here means one bedroom bathroom living ...   \n",
       "8                                              On may   \n",
       "9   there is still a lot of time you will prepare ...   \n",
       "10   I made lots mistkakes in that exercise yesterday   \n",
       "11                                you still have time   \n",
       "12                              Do you have teddies ?   \n",
       "13                                               nope   \n",
       "14                I meant teddybear Do you have one ?   \n",
       "15                       no my mother threw them away   \n",
       "16        And when you panicking what are you doing ?   \n",
       "17  just panick . i guess haha . i punch the wall ...   \n",
       "18       Online madam Are you double - timing me rn ?   \n",
       "19                             You tell me the time .   \n",
       "\n",
       "                                                right  \n",
       "0                                Mums Sisters Shelter  \n",
       "1                           Mom lives in a group home  \n",
       "2   She would make room shes family and you're abused  \n",
       "3   Shelters here only take women who have been be...  \n",
       "4                       A sofa A floor You are beaten  \n",
       "5   Ugggh , do you even know what a studio apartme...  \n",
       "6   Studio here means one bedroom bathroom living ...  \n",
       "7                One bedroom for them would be luxury  \n",
       "8   there is still a lot of time you will prepare ...  \n",
       "9    I made lots mistkakes in that exercise yesterday  \n",
       "10                                you still have time  \n",
       "11                              Do you have teddies ?  \n",
       "12                                               nope  \n",
       "13                I meant teddybear Do you have one ?  \n",
       "14                       no my mother threw them away  \n",
       "15        And when you panicking what are you doing ?  \n",
       "16  just panick . i guess haha . i punch the wall ...  \n",
       "17               Im learning german too at university  \n",
       "18                             You tell me the time .  \n",
       "19  Actually there is no such particular time So y...  "
      ]
     },
     "execution_count": 57,
     "metadata": {},
     "output_type": "execute_result"
    }
   ],
   "source": [
    "valid_df = pd.read_csv('/data/users/kyle.shaffer/dialog_data/polar_valid.txt', sep='\\t', encoding='utf8', names=['left', 'right'])\n",
    "print(valid_df.shape)\n",
    "valid_df.head(20)"
   ]
  },
  {
   "cell_type": "code",
   "execution_count": 58,
   "metadata": {},
   "outputs": [
    {
     "data": {
      "text/html": [
       "<div>\n",
       "<style scoped>\n",
       "    .dataframe tbody tr th:only-of-type {\n",
       "        vertical-align: middle;\n",
       "    }\n",
       "\n",
       "    .dataframe tbody tr th {\n",
       "        vertical-align: top;\n",
       "    }\n",
       "\n",
       "    .dataframe thead th {\n",
       "        text-align: right;\n",
       "    }\n",
       "</style>\n",
       "<table border=\"1\" class=\"dataframe\">\n",
       "  <thead>\n",
       "    <tr style=\"text-align: right;\">\n",
       "      <th></th>\n",
       "      <th>left</th>\n",
       "      <th>right</th>\n",
       "    </tr>\n",
       "  </thead>\n",
       "  <tbody>\n",
       "    <tr>\n",
       "      <th>311228</th>\n",
       "      <td>California</td>\n",
       "      <td>Wow ! You're lucky ! So good morning !</td>\n",
       "    </tr>\n",
       "    <tr>\n",
       "      <th>311229</th>\n",
       "      <td>Wow ! You're lucky ! So good morning !</td>\n",
       "      <td>It's morning there ?</td>\n",
       "    </tr>\n",
       "    <tr>\n",
       "      <th>311230</th>\n",
       "      <td>It's morning there ?</td>\n",
       "      <td>Yes .</td>\n",
       "    </tr>\n",
       "    <tr>\n",
       "      <th>311231</th>\n",
       "      <td>Yes .</td>\n",
       "      <td>Europe ?</td>\n",
       "    </tr>\n",
       "    <tr>\n",
       "      <th>311232</th>\n",
       "      <td>Europe ?</td>\n",
       "      <td>7.15 am yes , Europe</td>\n",
       "    </tr>\n",
       "    <tr>\n",
       "      <th>311233</th>\n",
       "      <td>7.15 am yes , Europe</td>\n",
       "      <td>France</td>\n",
       "    </tr>\n",
       "    <tr>\n",
       "      <th>311234</th>\n",
       "      <td>France</td>\n",
       "      <td>Nope</td>\n",
       "    </tr>\n",
       "    <tr>\n",
       "      <th>311235</th>\n",
       "      <td>Nope</td>\n",
       "      <td>Dang Hmm</td>\n",
       "    </tr>\n",
       "    <tr>\n",
       "      <th>311236</th>\n",
       "      <td>Dang Hmm</td>\n",
       "      <td>it's ok</td>\n",
       "    </tr>\n",
       "    <tr>\n",
       "      <th>311237</th>\n",
       "      <td>it's ok</td>\n",
       "      <td>I mean I think I at least guessed the right ti...</td>\n",
       "    </tr>\n",
       "  </tbody>\n",
       "</table>\n",
       "</div>"
      ],
      "text/plain": [
       "                                          left  \\\n",
       "311228                              California   \n",
       "311229  Wow ! You're lucky ! So good morning !   \n",
       "311230                    It's morning there ?   \n",
       "311231                                   Yes .   \n",
       "311232                                Europe ?   \n",
       "311233                    7.15 am yes , Europe   \n",
       "311234                                  France   \n",
       "311235                                    Nope   \n",
       "311236                                Dang Hmm   \n",
       "311237                                 it's ok   \n",
       "\n",
       "                                                    right  \n",
       "311228             Wow ! You're lucky ! So good morning !  \n",
       "311229                               It's morning there ?  \n",
       "311230                                              Yes .  \n",
       "311231                                           Europe ?  \n",
       "311232                               7.15 am yes , Europe  \n",
       "311233                                             France  \n",
       "311234                                               Nope  \n",
       "311235                                           Dang Hmm  \n",
       "311236                                            it's ok  \n",
       "311237  I mean I think I at least guessed the right ti...  "
      ]
     },
     "execution_count": 58,
     "metadata": {},
     "output_type": "execute_result"
    }
   ],
   "source": [
    "valid_df.tail(10)"
   ]
  },
  {
   "cell_type": "code",
   "execution_count": 53,
   "metadata": {},
   "outputs": [],
   "source": [
    "valid_df = valid_df[(valid_df.left.notnull()) & (valid_df.right.notnull()) & (valid_df.left != '') & (valid_df.right != '')]"
   ]
  },
  {
   "cell_type": "code",
   "execution_count": 71,
   "metadata": {},
   "outputs": [
    {
     "data": {
      "text/plain": [
       "(0, 2)"
      ]
     },
     "execution_count": 71,
     "metadata": {},
     "output_type": "execute_result"
    }
   ],
   "source": [
    "valid_df[valid_df.left == '\\n'].shape"
   ]
  },
  {
   "cell_type": "code",
   "execution_count": 56,
   "metadata": {},
   "outputs": [],
   "source": [
    "valid_df.to_csv('/data/users/kyle.shaffer/dialog_data/polar_valid.txt', sep='\\t', index=False, header=False)"
   ]
  },
  {
   "cell_type": "code",
   "execution_count": 139,
   "metadata": {},
   "outputs": [
    {
     "data": {
      "text/html": [
       "<div>\n",
       "<style scoped>\n",
       "    .dataframe tbody tr th:only-of-type {\n",
       "        vertical-align: middle;\n",
       "    }\n",
       "\n",
       "    .dataframe tbody tr th {\n",
       "        vertical-align: top;\n",
       "    }\n",
       "\n",
       "    .dataframe thead th {\n",
       "        text-align: right;\n",
       "    }\n",
       "</style>\n",
       "<table border=\"1\" class=\"dataframe\">\n",
       "  <thead>\n",
       "    <tr style=\"text-align: right;\">\n",
       "      <th></th>\n",
       "      <th>left</th>\n",
       "      <th>right</th>\n",
       "    </tr>\n",
       "  </thead>\n",
       "  <tbody>\n",
       "    <tr>\n",
       "      <th>0</th>\n",
       "      <td>And go where ?</td>\n",
       "      <td>Mums Sisters Shelter</td>\n",
       "    </tr>\n",
       "    <tr>\n",
       "      <th>1</th>\n",
       "      <td>Mums Sisters Shelter</td>\n",
       "      <td>Mom lives in a group home</td>\n",
       "    </tr>\n",
       "    <tr>\n",
       "      <th>2</th>\n",
       "      <td>Mom lives in a group home</td>\n",
       "      <td>She would make room shes family and you're abused</td>\n",
       "    </tr>\n",
       "    <tr>\n",
       "      <th>3</th>\n",
       "      <td>She would make room shes family and you're abused</td>\n",
       "      <td>Shelters here only take women who have been be...</td>\n",
       "    </tr>\n",
       "    <tr>\n",
       "      <th>4</th>\n",
       "      <td>Shelters here only take women who have been be...</td>\n",
       "      <td>A sofa A floor You are beaten</td>\n",
       "    </tr>\n",
       "    <tr>\n",
       "      <th>5</th>\n",
       "      <td>A sofa A floor You are beaten</td>\n",
       "      <td>Ugggh , do you even know what a studio apartme...</td>\n",
       "    </tr>\n",
       "    <tr>\n",
       "      <th>6</th>\n",
       "      <td>Ugggh , do you even know what a studio apartme...</td>\n",
       "      <td>Studio here means one bedroom bathroom living ...</td>\n",
       "    </tr>\n",
       "    <tr>\n",
       "      <th>7</th>\n",
       "      <td>Studio here means one bedroom bathroom living ...</td>\n",
       "      <td>One bedroom for them would be luxury</td>\n",
       "    </tr>\n",
       "    <tr>\n",
       "      <th>8</th>\n",
       "      <td>On may</td>\n",
       "      <td>there is still a lot of time you will prepare ...</td>\n",
       "    </tr>\n",
       "    <tr>\n",
       "      <th>9</th>\n",
       "      <td>there is still a lot of time you will prepare ...</td>\n",
       "      <td>I made lots mistkakes in that exercise yesterday</td>\n",
       "    </tr>\n",
       "  </tbody>\n",
       "</table>\n",
       "</div>"
      ],
      "text/plain": [
       "                                                left  \\\n",
       "0                                     And go where ?   \n",
       "1                               Mums Sisters Shelter   \n",
       "2                          Mom lives in a group home   \n",
       "3  She would make room shes family and you're abused   \n",
       "4  Shelters here only take women who have been be...   \n",
       "5                      A sofa A floor You are beaten   \n",
       "6  Ugggh , do you even know what a studio apartme...   \n",
       "7  Studio here means one bedroom bathroom living ...   \n",
       "8                                             On may   \n",
       "9  there is still a lot of time you will prepare ...   \n",
       "\n",
       "                                               right  \n",
       "0                               Mums Sisters Shelter  \n",
       "1                          Mom lives in a group home  \n",
       "2  She would make room shes family and you're abused  \n",
       "3  Shelters here only take women who have been be...  \n",
       "4                      A sofa A floor You are beaten  \n",
       "5  Ugggh , do you even know what a studio apartme...  \n",
       "6  Studio here means one bedroom bathroom living ...  \n",
       "7               One bedroom for them would be luxury  \n",
       "8  there is still a lot of time you will prepare ...  \n",
       "9   I made lots mistkakes in that exercise yesterday  "
      ]
     },
     "execution_count": 139,
     "metadata": {},
     "output_type": "execute_result"
    }
   ],
   "source": [
    "valid_df['left'] = valid_df.left.apply(lambda x: x.replace('\\n', '').replace('\\t', ''))\n",
    "valid_df['right'] = valid_df.right.apply(lambda x: x.replace('\\n', '').replace('\\t', ''))\n",
    "valid_df.head(10)"
   ]
  },
  {
   "cell_type": "code",
   "execution_count": 142,
   "metadata": {},
   "outputs": [
    {
     "data": {
      "text/plain": [
       "(2800385, 2)"
      ]
     },
     "execution_count": 142,
     "metadata": {},
     "output_type": "execute_result"
    }
   ],
   "source": [
    "train_df.shape"
   ]
  },
  {
   "cell_type": "code",
   "execution_count": 140,
   "metadata": {},
   "outputs": [],
   "source": [
    "valid_df.to_csv('/data/users/kyle.shaffer/dialog_data/polar_valid.txt', sep='\\t', index=False, header=False)"
   ]
  },
  {
   "cell_type": "code",
   "execution_count": 131,
   "metadata": {},
   "outputs": [
    {
     "name": "stdout",
     "output_type": "stream",
     "text": [
      "(2801100, 2)\n"
     ]
    },
    {
     "data": {
      "text/html": [
       "<div>\n",
       "<style scoped>\n",
       "    .dataframe tbody tr th:only-of-type {\n",
       "        vertical-align: middle;\n",
       "    }\n",
       "\n",
       "    .dataframe tbody tr th {\n",
       "        vertical-align: top;\n",
       "    }\n",
       "\n",
       "    .dataframe thead th {\n",
       "        text-align: right;\n",
       "    }\n",
       "</style>\n",
       "<table border=\"1\" class=\"dataframe\">\n",
       "  <thead>\n",
       "    <tr style=\"text-align: right;\">\n",
       "      <th></th>\n",
       "      <th>left</th>\n",
       "      <th>right</th>\n",
       "    </tr>\n",
       "  </thead>\n",
       "  <tbody>\n",
       "    <tr>\n",
       "      <th>0</th>\n",
       "      <td>I mean I think I at least guessed the right ti...</td>\n",
       "      <td>that's true</td>\n",
       "    </tr>\n",
       "    <tr>\n",
       "      <th>1</th>\n",
       "      <td>that's true</td>\n",
       "      <td>So what's up ?</td>\n",
       "    </tr>\n",
       "    <tr>\n",
       "      <th>2</th>\n",
       "      <td>So what's up ?</td>\n",
       "      <td>well , nothing really Just wanted to say good ...</td>\n",
       "    </tr>\n",
       "    <tr>\n",
       "      <th>3</th>\n",
       "      <td>well , nothing really Just wanted to say good ...</td>\n",
       "      <td>Oh , good morning :)</td>\n",
       "    </tr>\n",
       "    <tr>\n",
       "      <th>4</th>\n",
       "      <td>Oh , good morning :)</td>\n",
       "      <td>And have a LOVELY day and the weekend !</td>\n",
       "    </tr>\n",
       "    <tr>\n",
       "      <th>5</th>\n",
       "      <td>And have a LOVELY day and the weekend !</td>\n",
       "      <td>Haha thanks !</td>\n",
       "    </tr>\n",
       "    <tr>\n",
       "      <th>6</th>\n",
       "      <td>Haha thanks !</td>\n",
       "      <td>:-D That's all Can't go outside so I'm a bit b...</td>\n",
       "    </tr>\n",
       "    <tr>\n",
       "      <th>7</th>\n",
       "      <td>:-D That's all Can't go outside so I'm a bit b...</td>\n",
       "      <td>What ? Not famous enough for you ? :P</td>\n",
       "    </tr>\n",
       "    <tr>\n",
       "      <th>8</th>\n",
       "      <td>What ? Not famous enough for you ? :P</td>\n",
       "      <td>Yes , sure I admire them it would be so cool t...</td>\n",
       "    </tr>\n",
       "    <tr>\n",
       "      <th>9</th>\n",
       "      <td>Yes , sure I admire them it would be so cool t...</td>\n",
       "      <td>So definitely not France</td>\n",
       "    </tr>\n",
       "  </tbody>\n",
       "</table>\n",
       "</div>"
      ],
      "text/plain": [
       "                                                left  \\\n",
       "0  I mean I think I at least guessed the right ti...   \n",
       "1                                        that's true   \n",
       "2                                     So what's up ?   \n",
       "3  well , nothing really Just wanted to say good ...   \n",
       "4                               Oh , good morning :)   \n",
       "5            And have a LOVELY day and the weekend !   \n",
       "6                                      Haha thanks !   \n",
       "7  :-D That's all Can't go outside so I'm a bit b...   \n",
       "8              What ? Not famous enough for you ? :P   \n",
       "9  Yes , sure I admire them it would be so cool t...   \n",
       "\n",
       "                                               right  \n",
       "0                                        that's true  \n",
       "1                                     So what's up ?  \n",
       "2  well , nothing really Just wanted to say good ...  \n",
       "3                               Oh , good morning :)  \n",
       "4            And have a LOVELY day and the weekend !  \n",
       "5                                      Haha thanks !  \n",
       "6  :-D That's all Can't go outside so I'm a bit b...  \n",
       "7              What ? Not famous enough for you ? :P  \n",
       "8  Yes , sure I admire them it would be so cool t...  \n",
       "9                           So definitely not France  "
      ]
     },
     "execution_count": 131,
     "metadata": {},
     "output_type": "execute_result"
    }
   ],
   "source": [
    "train_df = pd.read_csv('/data/users/kyle.shaffer/dialog_data/polar_train.txt', sep='|', names=['left', 'right'])\n",
    "print(train_df.shape)\n",
    "train_df.head(10)"
   ]
  },
  {
   "cell_type": "code",
   "execution_count": 73,
   "metadata": {},
   "outputs": [
    {
     "data": {
      "text/plain": [
       "(0, 2)"
      ]
     },
     "execution_count": 73,
     "metadata": {},
     "output_type": "execute_result"
    }
   ],
   "source": [
    "train_df[train_df.left== '\\n'].shape"
   ]
  },
  {
   "cell_type": "code",
   "execution_count": 31,
   "metadata": {},
   "outputs": [
    {
     "data": {
      "text/html": [
       "<div>\n",
       "<style scoped>\n",
       "    .dataframe tbody tr th:only-of-type {\n",
       "        vertical-align: middle;\n",
       "    }\n",
       "\n",
       "    .dataframe tbody tr th {\n",
       "        vertical-align: top;\n",
       "    }\n",
       "\n",
       "    .dataframe thead th {\n",
       "        text-align: right;\n",
       "    }\n",
       "</style>\n",
       "<table border=\"1\" class=\"dataframe\">\n",
       "  <thead>\n",
       "    <tr style=\"text-align: right;\">\n",
       "      <th></th>\n",
       "      <th>left</th>\n",
       "      <th>right</th>\n",
       "    </tr>\n",
       "  </thead>\n",
       "  <tbody>\n",
       "    <tr>\n",
       "      <th>2800559</th>\n",
       "      <td>What is base 3 and 4 ?</td>\n",
       "      <td>So tell me .</td>\n",
       "    </tr>\n",
       "    <tr>\n",
       "      <th>2800560</th>\n",
       "      <td>Kissing and other things I'm sorry if you're f...</td>\n",
       "      <td>About what ? We've been together for 6 months ...</td>\n",
       "    </tr>\n",
       "    <tr>\n",
       "      <th>2800561</th>\n",
       "      <td>It's ok</td>\n",
       "      <td>Did you talk to him about this .. ?</td>\n",
       "    </tr>\n",
       "    <tr>\n",
       "      <th>2800562</th>\n",
       "      <td>So tell me .</td>\n",
       "      <td>Yeaa but he's still angry I guess And sometime...</td>\n",
       "    </tr>\n",
       "    <tr>\n",
       "      <th>2800563</th>\n",
       "      <td>About what ? We've been together for 6 months ...</td>\n",
       "      <td>Of course he'll feel that way . It's been six ...</td>\n",
       "    </tr>\n",
       "    <tr>\n",
       "      <th>2800564</th>\n",
       "      <td>Did you talk to him about this .. ?</td>\n",
       "      <td>Well sometimes he makes some infidelity jokes ...</td>\n",
       "    </tr>\n",
       "    <tr>\n",
       "      <th>2800565</th>\n",
       "      <td>Yeaa but he's still angry I guess And sometime...</td>\n",
       "      <td>What part are your parents playing in this .. ?</td>\n",
       "    </tr>\n",
       "    <tr>\n",
       "      <th>2800566</th>\n",
       "      <td>Of course he'll feel that way . It's been six ...</td>\n",
       "      <td>My dad he jus went off with another woman</td>\n",
       "    </tr>\n",
       "    <tr>\n",
       "      <th>2800567</th>\n",
       "      <td>Well sometimes he makes some infidelity jokes ...</td>\n",
       "      <td>Oh damn , I'm really sorry to hear that . I un...</td>\n",
       "    </tr>\n",
       "    <tr>\n",
       "      <th>2800568</th>\n",
       "      <td>What part are your parents playing in this .. ?</td>\n",
       "      <td>It's okayy</td>\n",
       "    </tr>\n",
       "  </tbody>\n",
       "</table>\n",
       "</div>"
      ],
      "text/plain": [
       "                                                      left  \\\n",
       "2800559                             What is base 3 and 4 ?   \n",
       "2800560  Kissing and other things I'm sorry if you're f...   \n",
       "2800561                                            It's ok   \n",
       "2800562                                       So tell me .   \n",
       "2800563  About what ? We've been together for 6 months ...   \n",
       "2800564                Did you talk to him about this .. ?   \n",
       "2800565  Yeaa but he's still angry I guess And sometime...   \n",
       "2800566  Of course he'll feel that way . It's been six ...   \n",
       "2800567  Well sometimes he makes some infidelity jokes ...   \n",
       "2800568    What part are your parents playing in this .. ?   \n",
       "\n",
       "                                                     right  \n",
       "2800559                                       So tell me .  \n",
       "2800560  About what ? We've been together for 6 months ...  \n",
       "2800561                Did you talk to him about this .. ?  \n",
       "2800562  Yeaa but he's still angry I guess And sometime...  \n",
       "2800563  Of course he'll feel that way . It's been six ...  \n",
       "2800564  Well sometimes he makes some infidelity jokes ...  \n",
       "2800565    What part are your parents playing in this .. ?  \n",
       "2800566          My dad he jus went off with another woman  \n",
       "2800567  Oh damn , I'm really sorry to hear that . I un...  \n",
       "2800568                                         It's okayy  "
      ]
     },
     "execution_count": 31,
     "metadata": {},
     "output_type": "execute_result"
    }
   ],
   "source": [
    "train_df.tail(10)"
   ]
  },
  {
   "cell_type": "code",
   "execution_count": 133,
   "metadata": {},
   "outputs": [
    {
     "name": "stdout",
     "output_type": "stream",
     "text": [
      "(2800395, 2)\n"
     ]
    }
   ],
   "source": [
    "train_df = train_df[(train_df.left.notnull()) & (train_df.right.notnull()) & (train_df.left != '') & (train_df.right != '')]\n",
    "print(train_df.shape)"
   ]
  },
  {
   "cell_type": "code",
   "execution_count": 134,
   "metadata": {},
   "outputs": [
    {
     "name": "stdout",
     "output_type": "stream",
     "text": [
      "(2800385, 2)\n"
     ]
    }
   ],
   "source": [
    "train_df = train_df[(train_df.left != ' ') & (train_df.right != ' ')]\n",
    "print(train_df.shape)"
   ]
  },
  {
   "cell_type": "code",
   "execution_count": 74,
   "metadata": {},
   "outputs": [
    {
     "name": "stdout",
     "output_type": "stream",
     "text": [
      "(2800535, 2)\n"
     ]
    }
   ],
   "source": [
    "train_df = train_df[(train_df.left != '\\n') & (train_df.right != '\\n')]\n",
    "print(train_df.shape)"
   ]
  },
  {
   "cell_type": "code",
   "execution_count": 37,
   "metadata": {},
   "outputs": [],
   "source": [
    "train_df[(train_df.left.notnull()) & (train_df.right.notnull()) & (train_df.left != '') & (train_df.right != '')].to_csv('/data/users/kyle.shaffer/dialog_data/polar_train.txt', sep='\\t', index=False, header=False)"
   ]
  },
  {
   "cell_type": "code",
   "execution_count": 135,
   "metadata": {},
   "outputs": [],
   "source": [
    "train_path = '/data/users/kyle.shaffer/dialog_data/polar_train.txt'\n",
    "train_df.to_csv(train_path, sep='\\t', index=False, header=False)"
   ]
  },
  {
   "cell_type": "code",
   "execution_count": 127,
   "metadata": {},
   "outputs": [],
   "source": [
    "train_df['left'] = train_df.left.apply(lambda x: x.replace('\\n', '').replace('\\t', ''))\n",
    "train_df['right'] = train_df.left.apply(lambda x: x.replace('\\n', '').replace('\\t', ''))"
   ]
  },
  {
   "cell_type": "code",
   "execution_count": 110,
   "metadata": {},
   "outputs": [],
   "source": [
    "with open(train_path, encoding='utf8', mode='w') as outfile:\n",
    "    for l, r in zip(train_df.left.tolist(), train_df.right.tolist()):\n",
    "        outfile.write(l.strip())\n",
    "        outfile.write('|')\n",
    "        outfile.write(r.strip())\n",
    "        outfile.write('\\n')"
   ]
  },
  {
   "cell_type": "code",
   "execution_count": 111,
   "metadata": {},
   "outputs": [],
   "source": [
    "train_lines = []\n",
    "with open(train_path, encoding='utf8', mode='r') as infile:\n",
    "    for line in infile:\n",
    "        train_lines.append(line)"
   ]
  },
  {
   "cell_type": "code",
   "execution_count": 112,
   "metadata": {},
   "outputs": [
    {
     "data": {
      "text/plain": [
       "2801100"
      ]
     },
     "execution_count": 112,
     "metadata": {},
     "output_type": "execute_result"
    }
   ],
   "source": [
    "len(train_lines)"
   ]
  },
  {
   "cell_type": "code",
   "execution_count": 117,
   "metadata": {},
   "outputs": [
    {
     "data": {
      "text/plain": [
       "\" Lmao i don't even think I've seen his face yet , he's over six foot that means instant sex l\\n\""
      ]
     },
     "execution_count": 117,
     "metadata": {},
     "output_type": "execute_result"
    }
   ],
   "source": [
    "train_lines[95440]"
   ]
  },
  {
   "cell_type": "code",
   "execution_count": 81,
   "metadata": {},
   "outputs": [
    {
     "data": {
      "text/html": [
       "<div>\n",
       "<style scoped>\n",
       "    .dataframe tbody tr th:only-of-type {\n",
       "        vertical-align: middle;\n",
       "    }\n",
       "\n",
       "    .dataframe tbody tr th {\n",
       "        vertical-align: top;\n",
       "    }\n",
       "\n",
       "    .dataframe thead th {\n",
       "        text-align: right;\n",
       "    }\n",
       "</style>\n",
       "<table border=\"1\" class=\"dataframe\">\n",
       "  <thead>\n",
       "    <tr style=\"text-align: right;\">\n",
       "      <th></th>\n",
       "      <th>left</th>\n",
       "      <th>right</th>\n",
       "    </tr>\n",
       "  </thead>\n",
       "  <tbody>\n",
       "  </tbody>\n",
       "</table>\n",
       "</div>"
      ],
      "text/plain": [
       "Empty DataFrame\n",
       "Columns: [left, right]\n",
       "Index: []"
      ]
     },
     "execution_count": 81,
     "metadata": {},
     "output_type": "execute_result"
    }
   ],
   "source": [
    "s = \"Lmao i don't even think I've seen his face yet , he's over six foot that means instant sex l\"\n",
    "\n",
    "train_df[train_df.left == s]"
   ]
  },
  {
   "cell_type": "code",
   "execution_count": 132,
   "metadata": {},
   "outputs": [
    {
     "data": {
      "text/plain": [
       "left      Lmao i don't even think I've seen his face ye...\n",
       "right                                                  NaN\n",
       "Name: 95440, dtype: object"
      ]
     },
     "execution_count": 132,
     "metadata": {},
     "output_type": "execute_result"
    }
   ],
   "source": [
    "train_df.loc[95440]"
   ]
  },
  {
   "cell_type": "code",
   "execution_count": null,
   "metadata": {},
   "outputs": [],
   "source": [
    "train_df"
   ]
  },
  {
   "cell_type": "code",
   "execution_count": null,
   "metadata": {},
   "outputs": [],
   "source": []
  },
  {
   "cell_type": "code",
   "execution_count": null,
   "metadata": {},
   "outputs": [],
   "source": []
  },
  {
   "cell_type": "code",
   "execution_count": null,
   "metadata": {},
   "outputs": [],
   "source": []
  }
 ],
 "metadata": {
  "kernelspec": {
   "display_name": "Python 3",
   "language": "python",
   "name": "python3"
  },
  "language_info": {
   "codemirror_mode": {
    "name": "ipython",
    "version": 3
   },
   "file_extension": ".py",
   "mimetype": "text/x-python",
   "name": "python",
   "nbconvert_exporter": "python",
   "pygments_lexer": "ipython3",
   "version": "3.6.7"
  }
 },
 "nbformat": 4,
 "nbformat_minor": 2
}
