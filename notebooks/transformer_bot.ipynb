{
 "cells": [
  {
   "cell_type": "markdown",
   "metadata": {},
   "source": [
    "## Steps\n",
    "1. Batch data into look-back of $k$ sentences for each \"training example\" (in HAN-NMT paper, $k$ = 3)\n",
    "    * This may also need to be done explicitly on the decoder side - unclear how easy that is to implement\n",
    "2. Choose attention type for encoder-decoder comparisons\n",
    "    * Standard dot-product\n",
    "    * \"Cross-attention\": http://www.aclweb.org/anthology/P18-1103"
   ]
  },
  {
   "cell_type": "markdown",
   "metadata": {},
   "source": [
    "## Model-testing"
   ]
  },
  {
   "cell_type": "code",
   "execution_count": 1,
   "metadata": {},
   "outputs": [
    {
     "name": "stderr",
     "output_type": "stream",
     "text": [
      "Using TensorFlow backend.\n"
     ]
    }
   ],
   "source": [
    "import os\n",
    "os.environ['CUDA_VISIBLE_DEVICES'] = '-1'\n",
    "import numpy as np\n",
    "\n",
    "from models import *"
   ]
  },
  {
   "cell_type": "code",
   "execution_count": null,
   "metadata": {},
   "outputs": [],
   "source": [
    "class DummyArgs:\n",
    "    n_train_examples = 100000\n",
    "    n_valid_examples = 60000\n",
    "    train_file = ''\n",
    "    valid_file = ''\n",
    "    n_epochs = 10\n",
    "    batch_size = 128\n",
    "    model_name = 'test'\n",
    "    \n",
    "dummy_args = DummyArgs()"
   ]
  },
  {
   "cell_type": "code",
   "execution_count": null,
   "metadata": {},
   "outputs": [],
   "source": [
    "import string\n",
    "print(string.printable)\n",
    "\n",
    "i_tokens = set(string.printable)\n",
    "o_tokens = i_tokens\n",
    "vocab = dict(zip(i_tokens, range(len(i_tokens))))\n",
    "len_limit = 100\n",
    "transformer = Transformer(dummy_args, vocab=vocab, len_limit=len_limit,  d_model=256,\n",
    "                          d_inner_hid=512, n_head=4, d_k=64, d_v=64, layers=2, dropout=0.1, share_word_emb=True)"
   ]
  },
  {
   "cell_type": "code",
   "execution_count": null,
   "metadata": {},
   "outputs": [],
   "source": [
    "dummy_x = np.asarray([np.random.randint(0, 100, 50) for _ in range(20)])\n",
    "dummy_x.shape"
   ]
  },
  {
   "cell_type": "code",
   "execution_count": null,
   "metadata": {},
   "outputs": [],
   "source": [
    "transformer.output_model.compile(loss='sparse_categorical_crossentropy', optimizer='adam')\n",
    "transformer.output_model.fit([dummy_x, dummy_x])"
   ]
  },
  {
   "cell_type": "code",
   "execution_count": null,
   "metadata": {},
   "outputs": [],
   "source": [
    "hist = transformer.model.fit([dummy_x, dummy_x])"
   ]
  },
  {
   "cell_type": "code",
   "execution_count": null,
   "metadata": {},
   "outputs": [],
   "source": [
    "hist.history"
   ]
  },
  {
   "cell_type": "code",
   "execution_count": null,
   "metadata": {},
   "outputs": [],
   "source": [
    "hist.history['loss'][0]"
   ]
  },
  {
   "cell_type": "code",
   "execution_count": null,
   "metadata": {},
   "outputs": [],
   "source": [
    "y = transformer.output_model.predict([dummy_x, dummy_x])"
   ]
  },
  {
   "cell_type": "code",
   "execution_count": null,
   "metadata": {},
   "outputs": [],
   "source": [
    "y.shape"
   ]
  },
  {
   "cell_type": "code",
   "execution_count": null,
   "metadata": {},
   "outputs": [],
   "source": [
    "# Testing loss/perplexity output\n",
    "y_loss = transformer.model.evaluate([dummy_x, dummy_x])\n",
    "y_loss"
   ]
  },
  {
   "cell_type": "markdown",
   "metadata": {},
   "source": [
    "## Re-munging Data into Context - Response Pairs"
   ]
  },
  {
   "cell_type": "code",
   "execution_count": null,
   "metadata": {},
   "outputs": [],
   "source": [
    "import os\n",
    "import pandas as pd\n",
    "import numpy as np\n",
    "\n",
    "data_path = '/data/users/kyle.shaffer/ubuntu-ranking-dataset-creator'\n",
    "# train_df = pd.read_csv(os.path.join(data_path, 'src/train_seq.tsv'), sep='\\t', encoding='utf8')\n",
    "# print(train_df.shape)\n",
    "\n",
    "# train_df.head(10)"
   ]
  },
  {
   "cell_type": "code",
   "execution_count": null,
   "metadata": {},
   "outputs": [],
   "source": [
    "df_train_orig = pd.read_csv(os.path.join(data_path, 'src/train.csv'), encoding='utf8')\n",
    "print(df_train_orig.shape)\n",
    "df_train_orig.head(10)"
   ]
  },
  {
   "cell_type": "code",
   "execution_count": null,
   "metadata": {},
   "outputs": [],
   "source": [
    "df_valid = pd.read_csv(os.path.join(data_path, 'src/test.csv'), encoding='utf8')\n",
    "print(df_valid.shape)\n",
    "df_valid.head()"
   ]
  },
  {
   "cell_type": "code",
   "execution_count": null,
   "metadata": {},
   "outputs": [],
   "source": [
    "df_train_orig = df_train_orig[df_train_orig.Label == 1]"
   ]
  },
  {
   "cell_type": "code",
   "execution_count": null,
   "metadata": {},
   "outputs": [],
   "source": [
    "df_train_orig['context'] = '<SOD> ' + df_train_orig.Context\n",
    "df_train_orig.head(10)"
   ]
  },
  {
   "cell_type": "code",
   "execution_count": null,
   "metadata": {},
   "outputs": [],
   "source": [
    "df_train_orig.drop('Context', axis=1, inplace=True)\n",
    "print(df_train_orig.shape)\n",
    "df_train_orig.head()"
   ]
  },
  {
   "cell_type": "code",
   "execution_count": null,
   "metadata": {},
   "outputs": [],
   "source": [
    "df_train_orig.drop('Label', axis=1, inplace=True)\n",
    "df_train_orig.head()"
   ]
  },
  {
   "cell_type": "code",
   "execution_count": null,
   "metadata": {},
   "outputs": [],
   "source": [
    "df_train_orig['response'] = df_train_orig.Utterance + ' <EOD>'\n",
    "print(df_train_orig.shape)\n",
    "df_train_orig.head()"
   ]
  },
  {
   "cell_type": "code",
   "execution_count": null,
   "metadata": {},
   "outputs": [],
   "source": [
    "df_train_orig.drop('Utterance', axis=1, inplace=True)\n",
    "df_train_orig.head()"
   ]
  },
  {
   "cell_type": "code",
   "execution_count": null,
   "metadata": {},
   "outputs": [],
   "source": [
    "df_train_orig.context.values[0].split('__eot__')"
   ]
  },
  {
   "cell_type": "code",
   "execution_count": null,
   "metadata": {},
   "outputs": [],
   "source": [
    "df_train_orig['response'] = df_train_orig.response.apply(lambda x: ' '.join(x.split()[:-1]) + ' __eot__ ' + ' <EOD>')\n",
    "print(df_train_orig.head())\n",
    "df_train_orig.response.values[:5]"
   ]
  },
  {
   "cell_type": "code",
   "execution_count": null,
   "metadata": {},
   "outputs": [],
   "source": [
    "df_train_orig['dialog'] = df_train_orig.context + ' ' + df_train_orig.response\n",
    "print(df_train_orig.head(10))\n",
    "\n",
    "df_train_orig.dialog.values[0]"
   ]
  },
  {
   "cell_type": "code",
   "execution_count": null,
   "metadata": {},
   "outputs": [],
   "source": [
    "df_train_orig.dialog.values[10].split('__eot__')"
   ]
  },
  {
   "cell_type": "code",
   "execution_count": null,
   "metadata": {},
   "outputs": [],
   "source": [
    "df_train_orig.head()"
   ]
  },
  {
   "cell_type": "code",
   "execution_count": null,
   "metadata": {},
   "outputs": [],
   "source": [
    "import sys\n",
    "\n",
    "def create_context_windows(df, window=2, response_col='Utterance'):\n",
    "    # assert ('Context' in df.columns) and ('Utterance' in df.columns), 'Correct columns missing!'\n",
    "    \n",
    "    # Add SOD and EOD tags\n",
    "    df['context'] = '<SOD> ' + df.Context\n",
    "    df['response'] = df[response_col] + ' <EOD>'\n",
    "    df['dialog'] = df.context + ' ' + df.response\n",
    "    # df.drop('context', axis=1, inplace=True)\n",
    "    # df.drop('response', axis=1, inplace=True)\n",
    "    \n",
    "    batched_dialogs = []\n",
    "    for d_i, d in enumerate(df.dialog.tolist()):\n",
    "        sys.stdout.write('\\r Processing {}...'.format(d_i))\n",
    "        d_turns = d.split('__eot__')\n",
    "        eod_tok = d_turns.pop()\n",
    "        d_turns = [turn + ' __eot__' for turn in d_turns]\n",
    "        d_turns[-1] = d_turns[-1] + eod_tok\n",
    "        for idx, turn in enumerate(d_turns):\n",
    "            context_turn = d_turns[idx: idx+window]\n",
    "            context_turn_string = ' '.join(context_turn)\n",
    "            batched_dialogs.append(context_turn_string)\n",
    "            if context_turn_string.split()[-1].strip() == '<EOD>':\n",
    "                break\n",
    "            \n",
    "    return batched_dialogs"
   ]
  },
  {
   "cell_type": "code",
   "execution_count": null,
   "metadata": {
    "scrolled": true
   },
   "outputs": [],
   "source": [
    "batched_dialogs = create_context_windows(df_valid, window=3, response_col='Ground Truth Utterance')\n",
    "batched_dialogs[:10]"
   ]
  },
  {
   "cell_type": "code",
   "execution_count": null,
   "metadata": {},
   "outputs": [],
   "source": [
    "len(batched_dialogs)"
   ]
  },
  {
   "cell_type": "code",
   "execution_count": null,
   "metadata": {},
   "outputs": [],
   "source": [
    "batched_dialogs[0]"
   ]
  },
  {
   "cell_type": "code",
   "execution_count": null,
   "metadata": {},
   "outputs": [],
   "source": [
    "batched_dialogs[1]"
   ]
  },
  {
   "cell_type": "code",
   "execution_count": null,
   "metadata": {},
   "outputs": [],
   "source": [
    "batched_dialogs[2]"
   ]
  },
  {
   "cell_type": "code",
   "execution_count": null,
   "metadata": {},
   "outputs": [],
   "source": [
    "batched_dialogs[:10]"
   ]
  },
  {
   "cell_type": "code",
   "execution_count": null,
   "metadata": {},
   "outputs": [],
   "source": [
    "def create_pairs_data(dialog_list:list):\n",
    "    context, response = [], []\n",
    "    for d in dialog_list:\n",
    "        d_turns = d.strip().split('__eot__')\n",
    "        d_turns = [t for t in d_turns if t != '']\n",
    "        if d[-1].strip() == '<EOD>':\n",
    "            eod_tok = d.pop().strip()\n",
    "            d[-1] = d[-1] + ' __eot__ ' + eod_tok\n",
    "            \n",
    "        context_turn = d_turns[:-1]\n",
    "        response_turn = d_turns[-1]\n",
    "        context_turn = [c + ' __eot__' for c in context_turn]\n",
    "        if response_turn[-1].strip() == '<EOD>':\n",
    "            response_turn = response_turn + ' __eot__ ' + ' <EOD>'\n",
    "        else:\n",
    "            response_turn = response_turn + ' __eot__ '\n",
    "        \n",
    "        context.append(' '.join(context_turn))\n",
    "        # response.append(' '.join(response_turn))\n",
    "        response.append(response_turn.strip())\n",
    "        \n",
    "    return pd.DataFrame({'context': context, 'response': response})"
   ]
  },
  {
   "cell_type": "code",
   "execution_count": null,
   "metadata": {},
   "outputs": [],
   "source": [
    "context_pairs = create_pairs_data(dialog_list=batched_dialogs)\n",
    "print(context_pairs.shape)\n",
    "context_pairs.head(10)"
   ]
  },
  {
   "cell_type": "code",
   "execution_count": null,
   "metadata": {},
   "outputs": [],
   "source": [
    "context_pairs.response.tolist()[:10]"
   ]
  },
  {
   "cell_type": "code",
   "execution_count": null,
   "metadata": {},
   "outputs": [],
   "source": [
    "response_fix = []\n",
    "\n",
    "for r in context_pairs.response.tolist():\n",
    "    if '<EOD>' in r:\n",
    "        fix_r = [w for w in r.strip().split() if w != '<EOD>']\n",
    "        fix_r.append('<EOD>')\n",
    "        response_fix.append(' '.join(fix_r))\n",
    "    else:\n",
    "        response_fix.append(r)\n",
    "        \n",
    "    \n",
    "response_fix[:10]"
   ]
  },
  {
   "cell_type": "code",
   "execution_count": null,
   "metadata": {},
   "outputs": [],
   "source": [
    "context_pairs['response_fix'] = response_fix\n",
    "context_pairs.head(10)"
   ]
  },
  {
   "cell_type": "code",
   "execution_count": null,
   "metadata": {},
   "outputs": [],
   "source": [
    "context_pairs['response_fix'] = context_pairs.response.apply(lambda x: ' '.join(x.split()[:-2]) + ' __eot__ ' + ' <EOD>')\n",
    "context_pairs.head(10)"
   ]
  },
  {
   "cell_type": "code",
   "execution_count": null,
   "metadata": {},
   "outputs": [],
   "source": [
    "context_pairs.drop('response', axis=1, inplace=True)\n",
    "context_pairs.rename(columns={'response_fix': 'response'}, inplace=True)"
   ]
  },
  {
   "cell_type": "code",
   "execution_count": null,
   "metadata": {},
   "outputs": [],
   "source": [
    "context_pairs.head()"
   ]
  },
  {
   "cell_type": "code",
   "execution_count": null,
   "metadata": {},
   "outputs": [],
   "source": [
    "context_pairs.loc[0].context"
   ]
  },
  {
   "cell_type": "code",
   "execution_count": null,
   "metadata": {},
   "outputs": [],
   "source": [
    "context_pairs.loc[0].response"
   ]
  },
  {
   "cell_type": "code",
   "execution_count": null,
   "metadata": {},
   "outputs": [],
   "source": [
    "context_pairs.loc[1].context"
   ]
  },
  {
   "cell_type": "code",
   "execution_count": null,
   "metadata": {},
   "outputs": [],
   "source": [
    "context_pairs.loc[1].response"
   ]
  },
  {
   "cell_type": "code",
   "execution_count": null,
   "metadata": {},
   "outputs": [],
   "source": [
    "context_pairs[context_pairs.context.isnull()].shape"
   ]
  },
  {
   "cell_type": "code",
   "execution_count": null,
   "metadata": {},
   "outputs": [],
   "source": [
    "context_pairs['context'] = context_pairs.context.apply(lambda x: x.replace('\\t', ' '))\n",
    "context_pairs['response'] = context_pairs.response.apply(lambda x: x.replace('\\t', ' '))\n",
    "context_pairs.head(10)"
   ]
  },
  {
   "cell_type": "code",
   "execution_count": null,
   "metadata": {},
   "outputs": [],
   "source": [
    "context_pairs.to_csv('/data/users/kyle.shaffer/ubuntu-ranking-dataset-creator/data/test_seq.tsv',\n",
    "                    sep='\\t', encoding='utf8', index=False)"
   ]
  },
  {
   "cell_type": "code",
   "execution_count": null,
   "metadata": {},
   "outputs": [],
   "source": [
    "context_pairs.to_json('/data/users/kyle.shaffer/ubuntu-ranking-dataset-creator/data/test_seq.jl',\n",
    "                     orient='records', lines=True)"
   ]
  },
  {
   "cell_type": "markdown",
   "metadata": {},
   "source": [
    "## EDA for Max-Length Params"
   ]
  },
  {
   "cell_type": "code",
   "execution_count": null,
   "metadata": {},
   "outputs": [],
   "source": [
    "train_df = pd.read_csv('/data/users/kyle.shaffer/ubuntu-ranking-dataset-creator/data/train_seq.tsv', sep='\\t',\n",
    "                      encoding='utf8')\n",
    "print(train_df.shape)"
   ]
  },
  {
   "cell_type": "code",
   "execution_count": null,
   "metadata": {},
   "outputs": [],
   "source": [
    "train_df.head(10)"
   ]
  },
  {
   "cell_type": "code",
   "execution_count": null,
   "metadata": {},
   "outputs": [],
   "source": [
    "# response_fixed = []\n",
    "\n",
    "# for r in train_df.response.tolist():\n",
    "#     if '<EOD>' in r.strip():\n",
    "#         r_split = [w for w in r.strip().split() if w != '<EOD>']\n",
    "#         r_split.append('<EOD>')\n",
    "#         response_fixed.append(' '.join(r_split))\n",
    "#     else:\n",
    "#         response_fixed.append(r)\n",
    "        \n",
    "response_fixed[:30]"
   ]
  },
  {
   "cell_type": "code",
   "execution_count": null,
   "metadata": {},
   "outputs": [],
   "source": [
    "train_df['response_fixed'] = response_fixed\n",
    "train_df.head(10)"
   ]
  },
  {
   "cell_type": "code",
   "execution_count": null,
   "metadata": {},
   "outputs": [],
   "source": [
    "pd.read_csv('/data/users/kyle.shaffer/ubuntu-ranking-dataset-creator/data/valid_seq.tsv', sep='\\t').shape"
   ]
  },
  {
   "cell_type": "code",
   "execution_count": null,
   "metadata": {},
   "outputs": [],
   "source": [
    "train_df = train_df[['context', 'response_fixed']]\n",
    "train_df.rename(columns={'response_fixed': 'response'}, inplace=True)\n",
    "train_df.head(10)"
   ]
  },
  {
   "cell_type": "code",
   "execution_count": null,
   "metadata": {},
   "outputs": [],
   "source": [
    "train_df.shape"
   ]
  },
  {
   "cell_type": "code",
   "execution_count": null,
   "metadata": {},
   "outputs": [],
   "source": [
    "train_df.to_csv('/data/users/kyle.shaffer/ubuntu-ranking-dataset-creator/data/train_seq.tsv',\n",
    "               sep='\\t', encoding='utf8', index=False)"
   ]
  },
  {
   "cell_type": "code",
   "execution_count": null,
   "metadata": {},
   "outputs": [],
   "source": [
    "train_df.to_json('/data/users/kyle.shaffer/ubuntu-ranking-dataset-creator/data/train_seq.jl', orient='records', lines=True)"
   ]
  },
  {
   "cell_type": "code",
   "execution_count": null,
   "metadata": {},
   "outputs": [],
   "source": [
    "max_context_len = max(train_df.context.apply(lambda x: len(x.strip().split())).tolist())\n",
    "max_response_len = max(train_df.response.apply(lambda x: len(x.strip().split())).tolist())\n",
    "\n",
    "print(max_context_len)\n",
    "print(max_response_len)"
   ]
  },
  {
   "cell_type": "code",
   "execution_count": null,
   "metadata": {},
   "outputs": [],
   "source": [
    "train_df['context_len'] = train_df.context.apply(lambda x: len(x.strip().split()))\n",
    "train_df['response_len'] = train_df.response.apply(lambda x: len(x.strip().split()))\n",
    "train_df.head()"
   ]
  },
  {
   "cell_type": "code",
   "execution_count": null,
   "metadata": {},
   "outputs": [],
   "source": [
    "import matplotlib.pyplot as plt\n",
    "%matplotlib inline\n",
    "\n",
    "train_df.context_len.plot(kind='hist', bins=25, figsize=(8, 6))"
   ]
  },
  {
   "cell_type": "code",
   "execution_count": null,
   "metadata": {},
   "outputs": [],
   "source": [
    "train_df.response_len.plot(kind='hist', bins=25, figsize=(8, 6))"
   ]
  },
  {
   "cell_type": "code",
   "execution_count": null,
   "metadata": {},
   "outputs": [],
   "source": [
    "train_df[train_df.response_len > 700].head(1).response.values"
   ]
  },
  {
   "cell_type": "code",
   "execution_count": null,
   "metadata": {
    "scrolled": false
   },
   "outputs": [],
   "source": [
    "train_df.response.values[:100]"
   ]
  },
  {
   "cell_type": "code",
   "execution_count": null,
   "metadata": {},
   "outputs": [],
   "source": [
    "train_df[train_df.context_len < 300].shape[0] / train_df.shape[0]"
   ]
  },
  {
   "cell_type": "code",
   "execution_count": null,
   "metadata": {},
   "outputs": [],
   "source": [
    "from collections import Counter\n",
    "\n",
    "counter = Counter()\n",
    "for c in train_df.context.tolist():\n",
    "    counter.update(c.strip().split())\n",
    "    \n",
    "for r in train_df.response.tolist():\n",
    "    counter.update(r.strip().split())\n",
    "    \n",
    "print('Total unique vocab items:', len(counter))"
   ]
  },
  {
   "cell_type": "code",
   "execution_count": null,
   "metadata": {},
   "outputs": [],
   "source": [
    "counter['operating']"
   ]
  },
  {
   "cell_type": "code",
   "execution_count": null,
   "metadata": {},
   "outputs": [],
   "source": [
    "with open('/data/users/kyle.shaffer/ubuntu-ranking-dataset-creator/data/vocab.txt', encoding='utf8', mode='w') as outfile:\n",
    "    for w, c in counter.most_common():\n",
    "        outfile.write(w)\n",
    "        outfile.write('\\t')\n",
    "        outfile.write(str(c))\n",
    "        outfile.write('\\n')"
   ]
  },
  {
   "cell_type": "code",
   "execution_count": null,
   "metadata": {},
   "outputs": [],
   "source": [
    "counter['<EOD>']"
   ]
  },
  {
   "cell_type": "code",
   "execution_count": null,
   "metadata": {},
   "outputs": [],
   "source": [
    "vocab_df = pd.DataFrame()\n",
    "vocab_df['word'] = list(counter.keys())\n",
    "vocab_df['freq'] = list(counter.values())\n",
    "vocab_df.head()"
   ]
  },
  {
   "cell_type": "code",
   "execution_count": null,
   "metadata": {},
   "outputs": [],
   "source": [
    "print(vocab_df.shape)\n",
    "vocab_df[vocab_df.freq > 2].shape"
   ]
  },
  {
   "cell_type": "code",
   "execution_count": null,
   "metadata": {},
   "outputs": [],
   "source": []
  },
  {
   "cell_type": "code",
   "execution_count": null,
   "metadata": {},
   "outputs": [],
   "source": []
  },
  {
   "cell_type": "code",
   "execution_count": null,
   "metadata": {},
   "outputs": [],
   "source": []
  },
  {
   "cell_type": "code",
   "execution_count": null,
   "metadata": {},
   "outputs": [],
   "source": []
  },
  {
   "cell_type": "code",
   "execution_count": null,
   "metadata": {},
   "outputs": [],
   "source": []
  },
  {
   "cell_type": "code",
   "execution_count": null,
   "metadata": {},
   "outputs": [],
   "source": []
  }
 ],
 "metadata": {
  "kernelspec": {
   "display_name": "Python 3",
   "language": "python",
   "name": "python3"
  },
  "language_info": {
   "codemirror_mode": {
    "name": "ipython",
    "version": 3
   },
   "file_extension": ".py",
   "mimetype": "text/x-python",
   "name": "python",
   "nbconvert_exporter": "python",
   "pygments_lexer": "ipython3",
   "version": "3.6.7"
  }
 },
 "nbformat": 4,
 "nbformat_minor": 2
}
