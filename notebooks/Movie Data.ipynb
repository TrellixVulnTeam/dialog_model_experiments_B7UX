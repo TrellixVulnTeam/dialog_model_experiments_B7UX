{
 "cells": [
  {
   "cell_type": "code",
   "execution_count": 1,
   "metadata": {},
   "outputs": [],
   "source": [
    "import os\n",
    "import numpy as np\n",
    "import pandas as pd"
   ]
  },
  {
   "cell_type": "code",
   "execution_count": 4,
   "metadata": {},
   "outputs": [
    {
     "name": "stdout",
     "output_type": "stream",
     "text": [
      "(22137, 3)\n"
     ]
    },
    {
     "data": {
      "text/html": [
       "<div>\n",
       "<style scoped>\n",
       "    .dataframe tbody tr th:only-of-type {\n",
       "        vertical-align: middle;\n",
       "    }\n",
       "\n",
       "    .dataframe tbody tr th {\n",
       "        vertical-align: top;\n",
       "    }\n",
       "\n",
       "    .dataframe thead th {\n",
       "        text-align: right;\n",
       "    }\n",
       "</style>\n",
       "<table border=\"1\" class=\"dataframe\">\n",
       "  <thead>\n",
       "    <tr style=\"text-align: right;\">\n",
       "      <th></th>\n",
       "      <th>left</th>\n",
       "      <th>right</th>\n",
       "      <th>conv_id</th>\n",
       "    </tr>\n",
       "  </thead>\n",
       "  <tbody>\n",
       "    <tr>\n",
       "      <th>0</th>\n",
       "      <td>&lt;SOD&gt; I looked for you back at the party , but...</td>\n",
       "      <td>I was ?</td>\n",
       "      <td>conv_16</td>\n",
       "    </tr>\n",
       "    <tr>\n",
       "      <th>1</th>\n",
       "      <td>I was ?</td>\n",
       "      <td>You never wanted to go out with'me , did you ?...</td>\n",
       "      <td>conv_16</td>\n",
       "    </tr>\n",
       "    <tr>\n",
       "      <th>2</th>\n",
       "      <td>&lt;SOD&gt; Well , no</td>\n",
       "      <td>Then that's all you had to say .</td>\n",
       "      <td>conv_17</td>\n",
       "    </tr>\n",
       "    <tr>\n",
       "      <th>3</th>\n",
       "      <td>Then that's all you had to say .</td>\n",
       "      <td>But</td>\n",
       "      <td>conv_17</td>\n",
       "    </tr>\n",
       "    <tr>\n",
       "      <th>4</th>\n",
       "      <td>But</td>\n",
       "      <td>You always been this selfish ? &lt;EOD&gt;</td>\n",
       "      <td>conv_17</td>\n",
       "    </tr>\n",
       "  </tbody>\n",
       "</table>\n",
       "</div>"
      ],
      "text/plain": [
       "                                                left  \\\n",
       "0  <SOD> I looked for you back at the party , but...   \n",
       "1                                            I was ?   \n",
       "2                                    <SOD> Well , no   \n",
       "3                   Then that's all you had to say .   \n",
       "4                                                But   \n",
       "\n",
       "                                               right  conv_id  \n",
       "0                                            I was ?  conv_16  \n",
       "1  You never wanted to go out with'me , did you ?...  conv_16  \n",
       "2                   Then that's all you had to say .  conv_17  \n",
       "3                                                But  conv_17  \n",
       "4               You always been this selfish ? <EOD>  conv_17  "
      ]
     },
     "execution_count": 4,
     "metadata": {},
     "output_type": "execute_result"
    }
   ],
   "source": [
    "valid_df = pd.read_csv('/data/users/kyle.shaffer/dialog_data/cornell_movie_dialog_no_context_valid_retok.txt', sep='\\t',\n",
    "                      names=['left', 'right', 'conv_id'])\n",
    "print(valid_df.shape)\n",
    "valid_df.head()"
   ]
  },
  {
   "cell_type": "code",
   "execution_count": null,
   "metadata": {},
   "outputs": [],
   "source": [
    "def get_contexts(input_df):\n",
    "    all_convos = []\n",
    "    for grp_ix, grp in input_df.groupby('conv_id'):\n",
    "        left, right = grp.left.tolist(), grp.right.tolist()\n",
    "        unrolled_convo = []\n",
    "        for lzip, rzip in zip(left, right):\n",
    "            if not(lzip in unrolled_convo):\n",
    "                unrolled_convo.append(lzip)\n",
    "            if not(rzip in unrolled_convo):\n",
    "                unrolled_convo.append(rzip)\n",
    "                \n",
    "        all_convos.append(unrolled_convo)\n",
    "            \n",
    "    return all_convos"
   ]
  },
  {
   "cell_type": "code",
   "execution_count": null,
   "metadata": {},
   "outputs": [],
   "source": [
    "all_convos = get_contexts(valid_df)\n",
    "print(len(all_convos))\n",
    "all_convos[0]"
   ]
  },
  {
   "cell_type": "code",
   "execution_count": null,
   "metadata": {},
   "outputs": [],
   "source": [
    "all_convos[7]"
   ]
  },
  {
   "cell_type": "code",
   "execution_count": null,
   "metadata": {},
   "outputs": [],
   "source": [
    "from tqdm import tqdm\n",
    "\n",
    "def batch_convos(convos, n=3):\n",
    "    batched_convos = []\n",
    "    pad = '<PAD>'\n",
    "    for c in tqdm(convos):\n",
    "        if len(c) < n:\n",
    "            diff = n - len(c)\n",
    "            max_len = max([len(u.split()) for u in c])\n",
    "            padded_sent = [pad] * max_len\n",
    "            for _ in range(diff):\n",
    "                c.insert(0, padded_sent)\n",
    "            batched_convos.append(c)\n",
    "        elif len(c) == 3:\n",
    "            batched_convos.append(c)\n",
    "        else:\n",
    "            for u_ix in range(len(c) - (n - 1)):\n",
    "                batched_convos.append(c[u_ix: (u_ix + n)])\n",
    "                \n",
    "    return batched_convos"
   ]
  },
  {
   "cell_type": "code",
   "execution_count": null,
   "metadata": {},
   "outputs": [],
   "source": [
    "batched_convos = batch_convos(all_convos)\n",
    "len(batched_convos)"
   ]
  },
  {
   "cell_type": "code",
   "execution_count": null,
   "metadata": {},
   "outputs": [],
   "source": [
    "batched_convos[0]"
   ]
  },
  {
   "cell_type": "code",
   "execution_count": null,
   "metadata": {},
   "outputs": [],
   "source": [
    "batched_convos[1]"
   ]
  },
  {
   "cell_type": "code",
   "execution_count": null,
   "metadata": {},
   "outputs": [],
   "source": [
    "batched_convos[7]"
   ]
  },
  {
   "cell_type": "code",
   "execution_count": null,
   "metadata": {},
   "outputs": [],
   "source": [
    "batched_convos[8]"
   ]
  },
  {
   "cell_type": "code",
   "execution_count": null,
   "metadata": {},
   "outputs": [],
   "source": [
    "batched_convos[9]"
   ]
  },
  {
   "cell_type": "code",
   "execution_count": null,
   "metadata": {},
   "outputs": [],
   "source": [
    "batched_convos[10]"
   ]
  },
  {
   "cell_type": "code",
   "execution_count": null,
   "metadata": {},
   "outputs": [],
   "source": [
    "batched_convos[28]"
   ]
  },
  {
   "cell_type": "code",
   "execution_count": null,
   "metadata": {},
   "outputs": [],
   "source": [
    "all_convos[7]"
   ]
  },
  {
   "cell_type": "code",
   "execution_count": null,
   "metadata": {},
   "outputs": [],
   "source": [
    "with open('/data/users/kyle.shaffer/dialog_data/cornell_movie_context_train.txt', mode='w') as outfile:\n",
    "    for bc in batched_convos:\n",
    "        if isinstance(bc[0], str):\n",
    "            outfile.write(bc[0])\n",
    "        else:\n",
    "            outfile.write(' '.join(bc[0]))\n",
    "        outfile.write('\\t')\n",
    "        outfile.write(bc[1])\n",
    "        outfile.write('\\t')\n",
    "        outfile.write(bc[2])\n",
    "        outfile.write('\\n')"
   ]
  },
  {
   "cell_type": "code",
   "execution_count": 5,
   "metadata": {},
   "outputs": [
    {
     "name": "stdout",
     "output_type": "stream",
     "text": [
      "Vocab Size: 80368\n"
     ]
    },
    {
     "data": {
      "text/plain": [
       "[('.', 491821),\n",
       " (',', 241654),\n",
       " ('?', 163707),\n",
       " ('I', 151433),\n",
       " ('you', 144522),\n",
       " ('the', 124995),\n",
       " ('to', 114282),\n",
       " ('a', 95591),\n",
       " ('<SOD>', 83033),\n",
       " ('<EOD>', 83033)]"
      ]
     },
     "execution_count": 5,
     "metadata": {},
     "output_type": "execute_result"
    }
   ],
   "source": [
    "# Double-checking and writing out new vocab\n",
    "from collections import Counter\n",
    "\n",
    "# vocab_cnt = Counter()\n",
    "\n",
    "for l, r in zip(valid_df.left.tolist(), valid_df.right.tolist()):\n",
    "    vocab_cnt.update(l.split())\n",
    "    vocab_cnt.update(r.split())\n",
    "    \n",
    "print('Vocab Size:', len(vocab_cnt))\n",
    "vocab_cnt.most_common(10)"
   ]
  },
  {
   "cell_type": "code",
   "execution_count": 6,
   "metadata": {},
   "outputs": [],
   "source": [
    "with open('/data/users/kyle.shaffer/dialog_data/cornell_movie_vocab.txt', mode='w') as outfile:\n",
    "    for w, c in vocab_cnt.most_common():\n",
    "        outfile.write(w)\n",
    "        outfile.write('\\t')\n",
    "        outfile.write(str(c))\n",
    "        outfile.write('\\n')"
   ]
  },
  {
   "cell_type": "code",
   "execution_count": null,
   "metadata": {},
   "outputs": [],
   "source": []
  },
  {
   "cell_type": "code",
   "execution_count": null,
   "metadata": {},
   "outputs": [],
   "source": []
  }
 ],
 "metadata": {
  "kernelspec": {
   "display_name": "Python 3",
   "language": "python",
   "name": "python3"
  },
  "language_info": {
   "codemirror_mode": {
    "name": "ipython",
    "version": 3
   },
   "file_extension": ".py",
   "mimetype": "text/x-python",
   "name": "python",
   "nbconvert_exporter": "python",
   "pygments_lexer": "ipython3",
   "version": "3.6.7"
  }
 },
 "nbformat": 4,
 "nbformat_minor": 2
}
