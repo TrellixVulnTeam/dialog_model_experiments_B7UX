{
 "cells": [
  {
   "cell_type": "code",
   "execution_count": 4,
   "metadata": {},
   "outputs": [],
   "source": [
    "import os\n",
    "import sys\n",
    "import numpy as np\n",
    "import pandas as pd\n",
    "sys.path.append('/home/kyle.shaffer/dialog_model_experiments/src')\n",
    "os.environ['CUDA_VISIBLE_DEVICES'] = '-1'\n",
    "\n",
    "from attention import *\n",
    "from keras.models import Model\n",
    "from keras.layers import Input, Embedding, Dense, Dropout, LSTM, Lambda\n",
    "from keras.layers.merge import Add, Concatenate\n",
    "from keras.layers.wrappers import TimeDistributed"
   ]
  },
  {
   "cell_type": "code",
   "execution_count": 13,
   "metadata": {},
   "outputs": [
    {
     "name": "stdout",
     "output_type": "stream",
     "text": [
      "15029\n",
      "0\n",
      "max ID: 15028\n",
      "min ID: 0\n"
     ]
    }
   ],
   "source": [
    "import json\n",
    "\n",
    "bpe_vocab_path = '/data/users/kyle.shaffer/dialog_data/cornell_movie/bpe/bpe_vocab15k.txt'\n",
    "\n",
    "d = {}\n",
    "with open(bpe_vocab_path, mode='r') as infile:\n",
    "    ix = 1\n",
    "    for line in infile:\n",
    "        w, _ = line.strip().split('\\t')\n",
    "        d[w] = ix\n",
    "        ix += 1\n",
    "        \n",
    "d['_pad_'] = 0\n",
    "print(len(d))\n",
    "print(d['_pad_'])\n",
    "print('max ID:', max(d.values()))\n",
    "print('min ID:', min(d.values()))\n",
    "\n",
    "with open('/data/users/kyle.shaffer/dialog_data/cornell_movie/cakechat_model/tokens_index/movie_tok_ids.json', mode='w') as outfile:\n",
    "    json.dump(d, outfile)"
   ]
  },
  {
   "cell_type": "code",
   "execution_count": null,
   "metadata": {},
   "outputs": [],
   "source": [
    "import keras.backend as K\n",
    "from keras.layers import InputSpec\n",
    "from keras.engine.topology import Layer\n",
    "from keras import initializers as initializers, regularizers, constraints\n",
    "\n",
    "class AttLayer(Layer):\n",
    "    def __init__(self, attention_dim, **kwargs):\n",
    "        self.init = initializers.get('normal')\n",
    "        self.supports_masking = True\n",
    "        self.attention_dim = attention_dim\n",
    "        super(AttLayer, self).__init__()\n",
    "\n",
    "    def build(self, input_shape):\n",
    "        # print(input_shape)\n",
    "        assert len(input_shape) == 3, \"Expected input_shape == 3, found input_shape == {}!\".format(len(input_shape))\n",
    "        self.W = K.variable(self.init((input_shape[-1], self.attention_dim)))\n",
    "        self.b = K.variable(self.init((self.attention_dim, )))\n",
    "        self.u = K.variable(self.init((self.attention_dim, 1)))\n",
    "        self.trainable_weights = [self.W, self.b, self.u]\n",
    "        super(AttLayer, self).build(input_shape)\n",
    "\n",
    "    def compute_mask(self, inputs, mask=None):\n",
    "        return mask\n",
    "\n",
    "    def call(self, x, mask=None):\n",
    "        # size of x :[batch_size, sel_len, attention_dim]\n",
    "        # size of u :[batch_size, attention_dim]\n",
    "        # uit = tanh(xW+b)\n",
    "        uit = K.tanh(K.bias_add(K.dot(x, self.W), self.b))\n",
    "        ait = K.dot(uit, self.u)\n",
    "        ait = K.squeeze(ait, -1)\n",
    "\n",
    "        ait = K.exp(ait)\n",
    "\n",
    "        if mask is not None:\n",
    "            # Cast the mask to floatX to avoid float64 upcasting in theano\n",
    "            ait *= K.cast(mask, K.floatx())\n",
    "        ait /= K.cast(K.sum(ait, axis=1, keepdims=True) + K.epsilon(), K.floatx())\n",
    "        ait = K.expand_dims(ait)\n",
    "        weighted_input = x * ait\n",
    "        output = K.sum(weighted_input, axis=1)\n",
    "        # assert len(output.shape) == 2, \"Found output shape: {}\".format(len(output.shape))\n",
    "        return output\n",
    "\n",
    "    def compute_output_shape(self, input_shape):\n",
    "        return (input_shape[0], input_shape[-1])"
   ]
  },
  {
   "cell_type": "code",
   "execution_count": null,
   "metadata": {},
   "outputs": [],
   "source": [
    "import numpy as np\n",
    "\n",
    "W = np.random.normal(size=(200, 200))\n",
    "b = np.random.normal(size=(200,))\n",
    "u = np.random.normal(size=(200, 1))\n",
    "x = np.random.normal(size=(10, 20, 200))\n",
    "\n",
    "uit = np.dot(x, W)\n",
    "print('uit:', uit.shape)\n",
    "uit = np.add(uit, b)\n",
    "print('uit:', uit.shape)\n",
    "\n",
    "ait = np.dot(uit, u)\n",
    "print('ait:', ait.shape)\n",
    "ait = np.squeeze(ait, -1)\n",
    "print('ait:', ait.shape)\n",
    "ait = np.exp(ait)\n",
    "print('ait:', ait.shape)\n",
    "ait /= np.sum(ait, axis=1, keepdims=True)\n",
    "print('ait:', ait.shape)\n",
    "ait = np.expand_dims(ait, axis=-1)\n",
    "print('ait:', ait.shape)\n",
    "\n",
    "weighted_input = x * ait\n",
    "print('weighted_input:', weighted_input.shape)\n",
    "\n",
    "output = np.sum(weighted_input, axis=1)\n",
    "print('output:', output.shape)"
   ]
  },
  {
   "cell_type": "code",
   "execution_count": null,
   "metadata": {},
   "outputs": [],
   "source": [
    "context_in = Input(shape=(None,), name='context_input')\n",
    "current_in = Input(shape=(None,), name='current_input')\n",
    "decoder_in = Input(shape=(None,), name='decoder_input')\n",
    "\n",
    "embed_layer = Embedding(input_dim=20000, output_dim=200, mask_zero=True, name='embedding')\n",
    "encoder = LSTM(units=200, return_sequences=True, return_state=True, name='word_encoder')\n",
    "att_layer = AttLayer(attention_dim=200, name='word_attention')\n",
    "\n",
    "# Encoder\n",
    "context_embed = embed_layer(context_in)\n",
    "current_embed = embed_layer(current_in)\n",
    "context_encode, _, _ = encoder(context_embed)\n",
    "current_encode, state_h, state_c = encoder(current_embed)\n",
    "context_attend = att_layer(context_encode)\n",
    "current_attend = att_layer(current_encode)\n",
    "context_attend = Lambda(lambda x: K.expand_dims(x, -1))(context_attend)\n",
    "current_attend = Lambda(lambda x: K.expand_dims(x, -1))(current_attend)\n",
    "utterance_attend = Concatenate(axis=-1)([context_attend, current_attend])\n",
    "utt_rnn = LSTM(units=100, return_sequences=True, name='utt_encoder')(utterance_attend)\n",
    "cross_utterance_attention = AttLayer(attention_dim=100)(utt_rnn)\n",
    "\n",
    "# Decoder\n",
    "# decoder_embed = embed_layer(decoder_in)\n",
    "# decoder_rnn = LSTM(units=200, return_sequences=True)(decoder_embed)\n",
    "# decoder_combined_context = Concatenate(axis=-1)([cross_utterance_attention, decoder_rnn])\n",
    "# logits_out = Dense(units=20000, activation='linear', name='logits')(decoder_combined_context)\n",
    "\n",
    "model = Model(inputs=[context_in, current_in, decoder_in], outputs=cross_utterance_attention)\n",
    "model.summary()"
   ]
  },
  {
   "cell_type": "code",
   "execution_count": null,
   "metadata": {},
   "outputs": [],
   "source": [
    "from keras.layers import RepeatVector\n",
    "from keras.layers import Activation, Dot\n",
    "\n",
    "def custom_repeat(args):\n",
    "    seq_layer = args[0]\n",
    "    repeat_layer = args[1]\n",
    "    print('Seq layer:', seq_layer.shape)\n",
    "    print('Repeat layer:', repeat_layer.shape)\n",
    "    return RepeatVector(seq_layer.shape[1])(repeat_layer)\n",
    "\n",
    "word_input = Input(shape=(None,), name='word_input')\n",
    "decoder_input = Input(shape=(None,), name='decoder_input')\n",
    "conversation_input = Input(shape=(None, None), name='conversation_input')\n",
    "\n",
    "# ENCODER\n",
    "# Word-level encoder params\n",
    "embed_layer = Embedding(input_dim=20000, output_dim=200, mask_zero=True, name='embedding')\n",
    "word_encoder = LSTM(units=200, return_sequences=True, return_state=False, name='word_encoder')\n",
    "word_att_layer = AttLayer(attention_dim=200, name='word_attention')\n",
    "# Utterance-level encoder params\n",
    "utterance_encoder = LSTM(units=100, return_sequences=True, name='utterance_encoder')\n",
    "utt_att_layer = AttLayer(attention_dim=100, name='utterance_attention')\n",
    "\n",
    "word_embed = embed_layer(word_input)\n",
    "word_encode = word_encoder(word_embed)\n",
    "h_att_word = word_att_layer(word_encode)\n",
    "print('word_encode:', word_encode.shape)\n",
    "print('h_att_word:', h_att_word.shape)\n",
    "sent_encoder = Model(inputs=word_input, outputs=h_att_word)\n",
    "\n",
    "context_encoder = TimeDistributed(sent_encoder)(conversation_input)\n",
    "utt_encode = utterance_encoder(context_encoder)\n",
    "# h_att_utt = utt_att_layer(utt_encode)\n",
    "\n",
    "# DECODER\n",
    "decoder_embed = embed_layer(decoder_input)\n",
    "# print('decoder_embed:', decoder_embed.shape)\n",
    "decoder_output = LSTM(units=100, return_sequences=True)(decoder_embed)\n",
    "attention = Dot(axes=[2, 2], name='decoder_encoder_dot')([decoder_output, utt_encode])\n",
    "attention = Activation('softmax', name='attention_probs')(attention)\n",
    "context = Dot(axes=[2, 1], name='att_encoder_context')([attention, utt_encode])\n",
    "decoder_combined_context = Concatenate(name='decoder_context_concat')([context, decoder_output])\n",
    "logits = Dense(units=20000, activation='linear')(decoder_combined_context)\n",
    "\n",
    "model = Model(inputs=[conversation_input, decoder_input], outputs=logits)\n",
    "model.summary()"
   ]
  },
  {
   "cell_type": "code",
   "execution_count": null,
   "metadata": {},
   "outputs": [],
   "source": [
    "import numpy as np\n",
    "\n",
    "l1 = [list(range(10)), list(range(10))]\n",
    "l2 = [list(range(10)), list(range(10))]\n",
    "\n",
    "m1 = np.asarray(l1)\n",
    "m2 = np.asarray(l2)\n",
    "\n",
    "m = np.asarray([m1, m2])\n",
    "print(m.shape)"
   ]
  },
  {
   "cell_type": "markdown",
   "metadata": {},
   "source": [
    "## Data Generator"
   ]
  },
  {
   "cell_type": "code",
   "execution_count": 2,
   "metadata": {},
   "outputs": [
    {
     "name": "stdout",
     "output_type": "stream",
     "text": [
      "VOCAB SIZE = 15032\n",
      "Highest word ID: 15031\n",
      "<PAD> index: 0\n"
     ]
    }
   ],
   "source": [
    "sys.path.append('/home/kyle.shaffer/dialog_model_experiments/src')\n",
    "from data_utils import *\n",
    "\n",
    "vocab_path = '/data/users/kyle.shaffer/dialog_data/cornell_movie/bpe/bpe_vocab15k.txt'\n",
    "vocab = get_vocab(vocab_path, min_freq=2)\n",
    "\n",
    "train_path = '/data/users/kyle.shaffer/dialog_data/cornell_movie/bpe/cornell_movie_context_train.txt'\n",
    "valid_path = '/data/users/kyle.shaffer/dialog_data/cornell_movie/bpe/cornell_movie_context_valid.txt'\n",
    "s2s_data = HanS2SProcessing(train_path, valid_path, vocab, batch_size=10, model_type='recurrent')\n",
    "datagen = s2s_data.generate_s2s_batches()"
   ]
  },
  {
   "cell_type": "code",
   "execution_count": null,
   "metadata": {},
   "outputs": [],
   "source": [
    "rev_vocab = {v: k for k, v in vocab.items()}"
   ]
  },
  {
   "cell_type": "code",
   "execution_count": null,
   "metadata": {},
   "outputs": [],
   "source": [
    "list(vocab.items())[:50]"
   ]
  },
  {
   "cell_type": "code",
   "execution_count": null,
   "metadata": {},
   "outputs": [],
   "source": [
    "s2s_data_orig = S2SProcessing(train_path, valid_path, vocab, batch_size=10, model_type='recurrent')\n",
    "datagen2 = s2s_data_orig.generate_s2s_batches()"
   ]
  },
  {
   "cell_type": "code",
   "execution_count": null,
   "metadata": {},
   "outputs": [],
   "source": [
    "def show_next2(d):\n",
    "    x, y = next(d)\n",
    "    print(len(x))\n",
    "    x_in, y_in = x\n",
    "    print(x_in.shape, y_in.shape, y.shape)\n",
    "    print(x_in.mean(), y_in.mean(), y.mean())"
   ]
  },
  {
   "cell_type": "code",
   "execution_count": null,
   "metadata": {},
   "outputs": [],
   "source": [
    "show_next2(datagen2)"
   ]
  },
  {
   "cell_type": "code",
   "execution_count": null,
   "metadata": {},
   "outputs": [],
   "source": [
    "show_next2(datagen2)"
   ]
  },
  {
   "cell_type": "code",
   "execution_count": null,
   "metadata": {},
   "outputs": [],
   "source": [
    "def show_next(d):\n",
    "    x, y = next(d)\n",
    "    context, current, y_in = x\n",
    "    print(context.shape, current.shape, y_in.shape, y.shape)\n",
    "    print(context.mean(), current.mean(), y_in.mean(), y.mean())"
   ]
  },
  {
   "cell_type": "code",
   "execution_count": null,
   "metadata": {},
   "outputs": [],
   "source": [
    "show_next(datagen)"
   ]
  },
  {
   "cell_type": "code",
   "execution_count": null,
   "metadata": {},
   "outputs": [],
   "source": [
    "show_next(datagen)"
   ]
  },
  {
   "cell_type": "code",
   "execution_count": null,
   "metadata": {},
   "outputs": [],
   "source": [
    "x, y = next(datagen)\n",
    "context, current, y_in = x\n",
    "context[0]"
   ]
  },
  {
   "cell_type": "code",
   "execution_count": null,
   "metadata": {},
   "outputs": [],
   "source": [
    "current[0]"
   ]
  },
  {
   "cell_type": "code",
   "execution_count": null,
   "metadata": {},
   "outputs": [],
   "source": [
    "y_in[0]"
   ]
  },
  {
   "cell_type": "code",
   "execution_count": null,
   "metadata": {},
   "outputs": [],
   "source": [
    "y[0]"
   ]
  },
  {
   "cell_type": "code",
   "execution_count": null,
   "metadata": {},
   "outputs": [],
   "source": [
    "print([rev_vocab[w] for w in context[0]])\n",
    "print([rev_vocab[w] for w in current[0]])\n",
    "print([rev_vocab[w] for w in y_in[0]])\n",
    "print([rev_vocab[w] for w in y[0]])"
   ]
  },
  {
   "cell_type": "code",
   "execution_count": null,
   "metadata": {},
   "outputs": [],
   "source": [
    "print(x[0].shape, x[-1].shape)\n",
    "y.shape"
   ]
  },
  {
   "cell_type": "markdown",
   "metadata": {},
   "source": [
    "## Model Inspection"
   ]
  },
  {
   "cell_type": "code",
   "execution_count": null,
   "metadata": {},
   "outputs": [],
   "source": [
    "class Args:\n",
    "    gpu = -1\n",
    "    model_name = ''\n",
    "    train_file = '/data/users/kyle.shaffer/ased_data/combined_multilabel_train.jl'\n",
    "    valid_file = '/data/users/kyle.shaffer/ased_data/combined_multilabel_valid.jl'\n",
    "    vocab_file = ''\n",
    "    min_vocab_freq = 0\n",
    "    n_epochs = 10\n",
    "    batch_size = 256\n",
    "    model_type = 'han_rnn'\n",
    "    encoder_type = 'uni'\n",
    "    train_from = ''\n",
    "    optimizer = 'adam'\n",
    "    rec_cell = 'lstm'\n",
    "    embedding_dim = 300\n",
    "    encoder_dim = 256\n",
    "    decoder_dim = 256\n",
    "    num_encoder_layers = 2\n",
    "    num_decoder_layers = 1\n",
    "    n_train_examples = 158037\n",
    "    n_valid_examples = 17561\n",
    "    \n",
    "args = Args()"
   ]
  },
  {
   "cell_type": "code",
   "execution_count": null,
   "metadata": {},
   "outputs": [],
   "source": [
    "from recurrent import *\n",
    "from attention import *\n",
    "\n",
    "prev_model_path = '/data/users/kyle.shaffer/chat_models/bpe_lstm_context_chatbot_epoch03_loss4.424.h5'\n",
    "han = HanRnnSeq2Seq(args=args, vocab=vocab)\n",
    "han.load_trained_model(prev_model_path)"
   ]
  },
  {
   "cell_type": "code",
   "execution_count": null,
   "metadata": {},
   "outputs": [],
   "source": [
    "l = [15030, 559, 2, 4, 23, 21, 138, 1]\n",
    "[rev_vocab[i] for i in l]"
   ]
  },
  {
   "cell_type": "code",
   "execution_count": null,
   "metadata": {},
   "outputs": [],
   "source": [
    "i = \"Can you believe she actually said those things ?\\tOh, yeah she's always like that .\"\n",
    "han.greedy_decode(i, use_bpe=True)"
   ]
  },
  {
   "cell_type": "code",
   "execution_count": null,
   "metadata": {},
   "outputs": [],
   "source": [
    "t = 157450\n",
    "v = 17505\n",
    "bs = 256\n",
    "e = 50\n",
    "\n",
    "train_steps = (t // bs) * e\n",
    "valid_steps = (v // bs) * e\n",
    "\n",
    "print(train_steps, valid_steps)"
   ]
  },
  {
   "cell_type": "code",
   "execution_count": null,
   "metadata": {},
   "outputs": [],
   "source": []
  },
  {
   "cell_type": "markdown",
   "metadata": {},
   "source": [
    "## BPE Processing"
   ]
  },
  {
   "cell_type": "code",
   "execution_count": null,
   "metadata": {},
   "outputs": [],
   "source": [
    "from subword_nmt.apply_bpe import BPE\n",
    "\n",
    "class BPEArgs:\n",
    "    codes = open('/data/users/kyle.shaffer/dialog_data/cornell_movie/bpe/bpe_vocab_mapping15k.txt', mode='r')\n",
    "    merges = -1\n",
    "    separator = '@@'\n",
    "    vocabulary = None\n",
    "    glossaries = None\n",
    "    \n",
    "bpe_args = BPEArgs()\n",
    "\n",
    "bpe = BPE(bpe_args.codes, bpe_args.merges, bpe_args.separator,\n",
    "          bpe_args.vocabulary, bpe_args.glossaries)"
   ]
  },
  {
   "cell_type": "code",
   "execution_count": null,
   "metadata": {},
   "outputs": [],
   "source": [
    "i0 = 'I am good , but could use some recommendations on some things .'\n",
    "print(i0)\n",
    "bpe.segment_tokens(i0.split())"
   ]
  },
  {
   "cell_type": "code",
   "execution_count": null,
   "metadata": {},
   "outputs": [],
   "source": [
    "from random import shuffle\n",
    "\n",
    "t = []\n",
    "\n",
    "with open(train_path, mode='r') as infile:\n",
    "    for line in infile:\n",
    "        t.append(line.strip())\n",
    "\n",
    "print('Number of training lines:', len(t))\n",
    "idx = list(range(len(t)))\n",
    "shuffle(idx)\n",
    "print(idx[:5])\n",
    "\n",
    "with open('/data/users/kyle.shaffer/dialog_data/cornell_movie_context_shuffle_train.txt', mode='w') as outfile:\n",
    "    for i in idx:\n",
    "        outfile.write(t[i])\n",
    "        outfile.write('\\n')"
   ]
  },
  {
   "cell_type": "code",
   "execution_count": 8,
   "metadata": {},
   "outputs": [
    {
     "name": "stdout",
     "output_type": "stream",
     "text": [
      "(157677, 3)\n"
     ]
    },
    {
     "data": {
      "text/html": [
       "<div>\n",
       "<style scoped>\n",
       "    .dataframe tbody tr th:only-of-type {\n",
       "        vertical-align: middle;\n",
       "    }\n",
       "\n",
       "    .dataframe tbody tr th {\n",
       "        vertical-align: top;\n",
       "    }\n",
       "\n",
       "    .dataframe thead th {\n",
       "        text-align: right;\n",
       "    }\n",
       "</style>\n",
       "<table border=\"1\" class=\"dataframe\">\n",
       "  <thead>\n",
       "    <tr style=\"text-align: right;\">\n",
       "      <th></th>\n",
       "      <th>context</th>\n",
       "      <th>current</th>\n",
       "      <th>response</th>\n",
       "    </tr>\n",
       "  </thead>\n",
       "  <tbody>\n",
       "    <tr>\n",
       "      <th>0</th>\n",
       "      <td>Can we make this quick ? Ro@@ x@@ anne Kor@@ r...</td>\n",
       "      <td>Well , I thought we'd start with pron@@ un@@ c...</td>\n",
       "      <td>Not the ha@@ cking and ga@@ gging and sp@@ itt...</td>\n",
       "    </tr>\n",
       "    <tr>\n",
       "      <th>1</th>\n",
       "      <td>Well , I thought we'd start with pron@@ un@@ c...</td>\n",
       "      <td>Not the ha@@ cking and ga@@ gging and sp@@ itt...</td>\n",
       "      <td>Okay . . . then how 'bout we try out some Fren...</td>\n",
       "    </tr>\n",
       "    <tr>\n",
       "      <th>2</th>\n",
       "      <td>&lt;PAD&gt; &lt;PAD&gt; &lt;PAD&gt; &lt;PAD&gt; &lt;PAD&gt; &lt;PAD&gt; &lt;PAD&gt; &lt;PAD...</td>\n",
       "      <td>You're asking me out . That's so cute . What's...</td>\n",
       "      <td>Forget it .</td>\n",
       "    </tr>\n",
       "    <tr>\n",
       "      <th>3</th>\n",
       "      <td>&lt;PAD&gt; &lt;PAD&gt; &lt;PAD&gt; &lt;PAD&gt; &lt;PAD&gt; &lt;PAD&gt; &lt;PAD&gt; &lt;PAD...</td>\n",
       "      <td>How do you get your hair to look like that ?</td>\n",
       "      <td>E@@ ber's Deep Con@@ diti@@ oner every two day...</td>\n",
       "    </tr>\n",
       "    <tr>\n",
       "      <th>4</th>\n",
       "      <td>Hey , since when do you play Thomas E@@ dison ...</td>\n",
       "      <td>It is . . . was . It's a z@@ app@@ er , it mig...</td>\n",
       "      <td>Yeah , or turn you into toast .</td>\n",
       "    </tr>\n",
       "    <tr>\n",
       "      <th>5</th>\n",
       "      <td>Well hello there , young employee of the S@@ i...</td>\n",
       "      <td>Look , I already told you I'm not going to giv...</td>\n",
       "      <td>What can you tell me , young man , about the v...</td>\n",
       "    </tr>\n",
       "    <tr>\n",
       "      <th>6</th>\n",
       "      <td>Look , I already told you I'm not going to giv...</td>\n",
       "      <td>What can you tell me , young man , about the v...</td>\n",
       "      <td>Look , I'll be done in a minute . Just wait ou...</td>\n",
       "    </tr>\n",
       "    <tr>\n",
       "      <th>7</th>\n",
       "      <td>What can you tell me , young man , about the v...</td>\n",
       "      <td>Look , I'll be done in a minute . Just wait ou...</td>\n",
       "      <td>I'm afraid I don't understand . I simply wish ...</td>\n",
       "    </tr>\n",
       "    <tr>\n",
       "      <th>8</th>\n",
       "      <td>&lt;PAD&gt; &lt;PAD&gt; &lt;PAD&gt; &lt;PAD&gt; &lt;PAD&gt; &lt;PAD&gt; &lt;PAD&gt; &lt;PAD...</td>\n",
       "      <td>So Josh . . .</td>\n",
       "      <td>Look , can we talk in a minute ? I'm almost do...</td>\n",
       "    </tr>\n",
       "    <tr>\n",
       "      <th>9</th>\n",
       "      <td>That guy rules !</td>\n",
       "      <td>Who , Doug ? He spends more time here than I d...</td>\n",
       "      <td>So Josh , will you give us a ride ? Please ? P...</td>\n",
       "    </tr>\n",
       "  </tbody>\n",
       "</table>\n",
       "</div>"
      ],
      "text/plain": [
       "                                             context  \\\n",
       "0  Can we make this quick ? Ro@@ x@@ anne Kor@@ r...   \n",
       "1  Well , I thought we'd start with pron@@ un@@ c...   \n",
       "2  <PAD> <PAD> <PAD> <PAD> <PAD> <PAD> <PAD> <PAD...   \n",
       "3  <PAD> <PAD> <PAD> <PAD> <PAD> <PAD> <PAD> <PAD...   \n",
       "4  Hey , since when do you play Thomas E@@ dison ...   \n",
       "5  Well hello there , young employee of the S@@ i...   \n",
       "6  Look , I already told you I'm not going to giv...   \n",
       "7  What can you tell me , young man , about the v...   \n",
       "8  <PAD> <PAD> <PAD> <PAD> <PAD> <PAD> <PAD> <PAD...   \n",
       "9                                   That guy rules !   \n",
       "\n",
       "                                             current  \\\n",
       "0  Well , I thought we'd start with pron@@ un@@ c...   \n",
       "1  Not the ha@@ cking and ga@@ gging and sp@@ itt...   \n",
       "2  You're asking me out . That's so cute . What's...   \n",
       "3       How do you get your hair to look like that ?   \n",
       "4  It is . . . was . It's a z@@ app@@ er , it mig...   \n",
       "5  Look , I already told you I'm not going to giv...   \n",
       "6  What can you tell me , young man , about the v...   \n",
       "7  Look , I'll be done in a minute . Just wait ou...   \n",
       "8                                      So Josh . . .   \n",
       "9  Who , Doug ? He spends more time here than I d...   \n",
       "\n",
       "                                            response  \n",
       "0  Not the ha@@ cking and ga@@ gging and sp@@ itt...  \n",
       "1  Okay . . . then how 'bout we try out some Fren...  \n",
       "2                                        Forget it .  \n",
       "3  E@@ ber's Deep Con@@ diti@@ oner every two day...  \n",
       "4                    Yeah , or turn you into toast .  \n",
       "5  What can you tell me , young man , about the v...  \n",
       "6  Look , I'll be done in a minute . Just wait ou...  \n",
       "7  I'm afraid I don't understand . I simply wish ...  \n",
       "8  Look , can we talk in a minute ? I'm almost do...  \n",
       "9  So Josh , will you give us a ride ? Please ? P...  "
      ]
     },
     "execution_count": 8,
     "metadata": {},
     "output_type": "execute_result"
    }
   ],
   "source": [
    "train_df = pd.read_csv(train_path, sep='\\t', names=['context', 'current', 'response'])\n",
    "print(train_df.shape)\n",
    "train_df.head(10)"
   ]
  },
  {
   "cell_type": "code",
   "execution_count": null,
   "metadata": {},
   "outputs": [],
   "source": []
  },
  {
   "cell_type": "code",
   "execution_count": null,
   "metadata": {},
   "outputs": [],
   "source": []
  }
 ],
 "metadata": {
  "kernelspec": {
   "display_name": "Python 3",
   "language": "python",
   "name": "python3"
  },
  "language_info": {
   "codemirror_mode": {
    "name": "ipython",
    "version": 3
   },
   "file_extension": ".py",
   "mimetype": "text/x-python",
   "name": "python",
   "nbconvert_exporter": "python",
   "pygments_lexer": "ipython3",
   "version": "3.6.7"
  }
 },
 "nbformat": 4,
 "nbformat_minor": 2
}
