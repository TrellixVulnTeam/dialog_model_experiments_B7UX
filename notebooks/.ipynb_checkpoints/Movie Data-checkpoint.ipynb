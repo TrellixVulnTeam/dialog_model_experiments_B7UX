{
 "cells": [
  {
   "cell_type": "code",
   "execution_count": 1,
   "metadata": {},
   "outputs": [],
   "source": [
    "import os\n",
    "import numpy as np\n",
    "import pandas as pd"
   ]
  },
  {
   "cell_type": "code",
   "execution_count": 2,
   "metadata": {},
   "outputs": [
    {
     "name": "stdout",
     "output_type": "stream",
     "text": [
      "(199229, 3)\n"
     ]
    },
    {
     "data": {
      "text/html": [
       "<div>\n",
       "<style scoped>\n",
       "    .dataframe tbody tr th:only-of-type {\n",
       "        vertical-align: middle;\n",
       "    }\n",
       "\n",
       "    .dataframe tbody tr th {\n",
       "        vertical-align: top;\n",
       "    }\n",
       "\n",
       "    .dataframe thead th {\n",
       "        text-align: right;\n",
       "    }\n",
       "</style>\n",
       "<table border=\"1\" class=\"dataframe\">\n",
       "  <thead>\n",
       "    <tr style=\"text-align: right;\">\n",
       "      <th></th>\n",
       "      <th>left</th>\n",
       "      <th>right</th>\n",
       "      <th>conv_id</th>\n",
       "    </tr>\n",
       "  </thead>\n",
       "  <tbody>\n",
       "    <tr>\n",
       "      <th>0</th>\n",
       "      <td>&lt;SOD&gt; Can we make this quick ? Roxanne Korrine...</td>\n",
       "      <td>Well , I thought we'd start with pronunciation...</td>\n",
       "      <td>conv_0</td>\n",
       "    </tr>\n",
       "    <tr>\n",
       "      <th>1</th>\n",
       "      <td>Well , I thought we'd start with pronunciation...</td>\n",
       "      <td>Not the hacking and gagging and spitting part ...</td>\n",
       "      <td>conv_0</td>\n",
       "    </tr>\n",
       "    <tr>\n",
       "      <th>2</th>\n",
       "      <td>Not the hacking and gagging and spitting part ...</td>\n",
       "      <td>Okay then how'bout we try out some French cuis...</td>\n",
       "      <td>conv_0</td>\n",
       "    </tr>\n",
       "    <tr>\n",
       "      <th>3</th>\n",
       "      <td>&lt;SOD&gt; You're asking me out . That's so cute . ...</td>\n",
       "      <td>Forget it . &lt;EOD&gt;</td>\n",
       "      <td>conv_1</td>\n",
       "    </tr>\n",
       "    <tr>\n",
       "      <th>4</th>\n",
       "      <td>&lt;SOD&gt; No , no , it's my fault we did n't have ...</td>\n",
       "      <td>Cameron .</td>\n",
       "      <td>conv_2</td>\n",
       "    </tr>\n",
       "  </tbody>\n",
       "</table>\n",
       "</div>"
      ],
      "text/plain": [
       "                                                left  \\\n",
       "0  <SOD> Can we make this quick ? Roxanne Korrine...   \n",
       "1  Well , I thought we'd start with pronunciation...   \n",
       "2  Not the hacking and gagging and spitting part ...   \n",
       "3  <SOD> You're asking me out . That's so cute . ...   \n",
       "4  <SOD> No , no , it's my fault we did n't have ...   \n",
       "\n",
       "                                               right conv_id  \n",
       "0  Well , I thought we'd start with pronunciation...  conv_0  \n",
       "1  Not the hacking and gagging and spitting part ...  conv_0  \n",
       "2  Okay then how'bout we try out some French cuis...  conv_0  \n",
       "3                                  Forget it . <EOD>  conv_1  \n",
       "4                                          Cameron .  conv_2  "
      ]
     },
     "execution_count": 2,
     "metadata": {},
     "output_type": "execute_result"
    }
   ],
   "source": [
    "valid_df = pd.read_csv('/data/users/kyle.shaffer/dialog_data/cornell_movie_dialog_no_context_train_retok.txt', sep='\\t',\n",
    "                      names=['left', 'right', 'conv_id'])\n",
    "print(valid_df.shape)\n",
    "valid_df.head()"
   ]
  },
  {
   "cell_type": "code",
   "execution_count": null,
   "metadata": {},
   "outputs": [],
   "source": [
    "def get_contexts(input_df):\n",
    "    all_convos = []\n",
    "    for grp_ix, grp in input_df.groupby('conv_id'):\n",
    "        left, right = grp.left.tolist(), grp.right.tolist()\n",
    "        unrolled_convo = []\n",
    "        for lzip, rzip in zip(left, right):\n",
    "            if not(lzip in unrolled_convo):\n",
    "                unrolled_convo.append(lzip)\n",
    "            if not(rzip in unrolled_convo):\n",
    "                unrolled_convo.append(rzip)\n",
    "                \n",
    "        all_convos.append(unrolled_convo)\n",
    "            \n",
    "    return all_convos"
   ]
  },
  {
   "cell_type": "code",
   "execution_count": null,
   "metadata": {},
   "outputs": [],
   "source": [
    "all_convos = get_contexts(valid_df)\n",
    "print(len(all_convos))\n",
    "all_convos[0]"
   ]
  },
  {
   "cell_type": "code",
   "execution_count": null,
   "metadata": {},
   "outputs": [],
   "source": [
    "all_convos[7]"
   ]
  },
  {
   "cell_type": "code",
   "execution_count": null,
   "metadata": {},
   "outputs": [],
   "source": [
    "from tqdm import tqdm\n",
    "\n",
    "def batch_convos(convos, n=3):\n",
    "    batched_convos = []\n",
    "    pad = '<PAD>'\n",
    "    for c in tqdm(convos):\n",
    "        if len(c) < n:\n",
    "            diff = n - len(c)\n",
    "            max_len = max([len(u.split()) for u in c])\n",
    "            padded_sent = [pad] * max_len\n",
    "            for _ in range(diff):\n",
    "                c.insert(0, padded_sent)\n",
    "            batched_convos.append(c)\n",
    "        elif len(c) == 3:\n",
    "            batched_convos.append(c)\n",
    "        else:\n",
    "            for u_ix in range(len(c) - (n - 1)):\n",
    "                batched_convos.append(c[u_ix: (u_ix + n)])\n",
    "                \n",
    "    return batched_convos"
   ]
  },
  {
   "cell_type": "code",
   "execution_count": null,
   "metadata": {},
   "outputs": [],
   "source": [
    "batched_convos = batch_convos(all_convos)\n",
    "len(batched_convos)"
   ]
  },
  {
   "cell_type": "code",
   "execution_count": null,
   "metadata": {},
   "outputs": [],
   "source": [
    "batched_convos[0]"
   ]
  },
  {
   "cell_type": "code",
   "execution_count": null,
   "metadata": {},
   "outputs": [],
   "source": [
    "batched_convos[1]"
   ]
  },
  {
   "cell_type": "code",
   "execution_count": null,
   "metadata": {},
   "outputs": [],
   "source": [
    "batched_convos[7]"
   ]
  },
  {
   "cell_type": "code",
   "execution_count": null,
   "metadata": {},
   "outputs": [],
   "source": [
    "batched_convos[8]"
   ]
  },
  {
   "cell_type": "code",
   "execution_count": null,
   "metadata": {},
   "outputs": [],
   "source": [
    "batched_convos[9]"
   ]
  },
  {
   "cell_type": "code",
   "execution_count": null,
   "metadata": {},
   "outputs": [],
   "source": [
    "batched_convos[10]"
   ]
  },
  {
   "cell_type": "code",
   "execution_count": null,
   "metadata": {},
   "outputs": [],
   "source": [
    "batched_convos[28]"
   ]
  },
  {
   "cell_type": "code",
   "execution_count": null,
   "metadata": {},
   "outputs": [],
   "source": [
    "all_convos[7]"
   ]
  },
  {
   "cell_type": "code",
   "execution_count": null,
   "metadata": {},
   "outputs": [],
   "source": [
    "with open('/data/users/kyle.shaffer/dialog_data/cornell_movie_context_train.txt', mode='w') as outfile:\n",
    "    for bc in batched_convos:\n",
    "        if isinstance(bc[0], str):\n",
    "            outfile.write(bc[0])\n",
    "        else:\n",
    "            outfile.write(' '.join(bc[0]))\n",
    "        outfile.write('\\t')\n",
    "        outfile.write(bc[1])\n",
    "        outfile.write('\\t')\n",
    "        outfile.write(bc[2])\n",
    "        outfile.write('\\n')"
   ]
  },
  {
   "cell_type": "code",
   "execution_count": null,
   "metadata": {},
   "outputs": [],
   "source": [
    "# Double-checking and writing out new vocab\n",
    "\n",
    "vocab_cnt = Counter()"
   ]
  },
  {
   "cell_type": "code",
   "execution_count": null,
   "metadata": {},
   "outputs": [],
   "source": []
  },
  {
   "cell_type": "code",
   "execution_count": null,
   "metadata": {},
   "outputs": [],
   "source": []
  },
  {
   "cell_type": "code",
   "execution_count": null,
   "metadata": {},
   "outputs": [],
   "source": []
  }
 ],
 "metadata": {
  "kernelspec": {
   "display_name": "Python 3",
   "language": "python",
   "name": "python3"
  },
  "language_info": {
   "codemirror_mode": {
    "name": "ipython",
    "version": 3
   },
   "file_extension": ".py",
   "mimetype": "text/x-python",
   "name": "python",
   "nbconvert_exporter": "python",
   "pygments_lexer": "ipython3",
   "version": "3.6.7"
  }
 },
 "nbformat": 4,
 "nbformat_minor": 2
}
