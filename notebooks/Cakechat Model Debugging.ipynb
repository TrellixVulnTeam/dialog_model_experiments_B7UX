{
 "cells": [
  {
   "cell_type": "code",
   "execution_count": 1,
   "metadata": {},
   "outputs": [],
   "source": [
    "import os\n",
    "import json"
   ]
  },
  {
   "cell_type": "code",
   "execution_count": 2,
   "metadata": {},
   "outputs": [
    {
     "name": "stdout",
     "output_type": "stream",
     "text": [
      "15030\n",
      "True\n"
     ]
    }
   ],
   "source": [
    "root_dir = '/data/users/kyle.shaffer/dialog_data/cornell_movie/cakechat_model'\n",
    "\n",
    "with open(os.path.join(root_dir, 'tokens_index/t_idx_processed_dialogs.json'), mode='r') as infile:\n",
    "    vocab = json.load(infile)\n",
    "    \n",
    "print(len(vocab))\n",
    "print('_unk_' in vocab.keys())"
   ]
  },
  {
   "cell_type": "code",
   "execution_count": 3,
   "metadata": {},
   "outputs": [
    {
     "name": "stdout",
     "output_type": "stream",
     "text": [
      "_pad_\n"
     ]
    }
   ],
   "source": [
    "vocab_rev = {v: k for k, v in vocab.items()}\n",
    "print(vocab_rev[0])"
   ]
  },
  {
   "cell_type": "code",
   "execution_count": 5,
   "metadata": {},
   "outputs": [
    {
     "name": "stdout",
     "output_type": "stream",
     "text": [
      "15032\n"
     ]
    }
   ],
   "source": [
    "# vocab['_unk_'] = max(vocab.values()) + 1\n",
    "vocab['_end_'] = max(vocab.values()) + 1\n",
    "print(len(vocab))\n",
    "\n",
    "with open(os.path.join(root_dir, 'tokens_index/t_idx_processed_dialogs.json'), mode='w') as outfile:\n",
    "    json.dump(vocab, outfile)"
   ]
  },
  {
   "cell_type": "code",
   "execution_count": null,
   "metadata": {},
   "outputs": [],
   "source": []
  },
  {
   "cell_type": "code",
   "execution_count": null,
   "metadata": {},
   "outputs": [],
   "source": []
  },
  {
   "cell_type": "code",
   "execution_count": null,
   "metadata": {},
   "outputs": [],
   "source": []
  }
 ],
 "metadata": {
  "kernelspec": {
   "display_name": "Python 3",
   "language": "python",
   "name": "python3"
  },
  "language_info": {
   "codemirror_mode": {
    "name": "ipython",
    "version": 3
   },
   "file_extension": ".py",
   "mimetype": "text/x-python",
   "name": "python",
   "nbconvert_exporter": "python",
   "pygments_lexer": "ipython3",
   "version": "3.6.7"
  }
 },
 "nbformat": 4,
 "nbformat_minor": 2
}
